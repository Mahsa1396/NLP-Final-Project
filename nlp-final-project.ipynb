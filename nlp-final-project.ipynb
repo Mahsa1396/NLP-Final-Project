{
 "cells": [
  {
   "cell_type": "code",
   "execution_count": null,
   "id": "9dcb322c-2c7d-4c82-8ead-0747a2949424",
   "metadata": {},
   "outputs": [],
   "source": [
    "pip install cdqa"
   ]
  },
  {
   "cell_type": "code",
   "execution_count": 1,
   "id": "ca463436-4d86-469f-9e7d-129b6b7d101d",
   "metadata": {},
   "outputs": [
    {
     "name": "stderr",
     "output_type": "stream",
     "text": [
      "/home/mshar004/.local/lib/python3.7/site-packages/sklearn/feature_extraction/image.py:167: DeprecationWarning: `np.int` is a deprecated alias for the builtin `int`. To silence this warning, use `int` by itself. Doing this will not modify any behavior and is safe. When replacing `np.int`, you may wish to use e.g. `np.int64` or `np.int32` to specify the precision. If you wish to review your current use, check the release note link for additional information.\n",
      "Deprecated in NumPy 1.20; for more details and guidance: https://numpy.org/devdocs/release/1.20.0-notes.html#deprecations\n",
      "  dtype=np.int):\n",
      "/home/mshar004/.local/lib/python3.7/site-packages/tqdm/autonotebook/__init__.py:18: TqdmExperimentalWarning: Using `tqdm.autonotebook.tqdm` in notebook mode. Use `tqdm.tqdm` instead to force console mode (e.g. in jupyter console)\n",
      "  \" (e.g. in jupyter console)\", TqdmExperimentalWarning)\n"
     ]
    }
   ],
   "source": [
    "from cdqa.pipeline import QAPipeline"
   ]
  },
  {
   "cell_type": "code",
   "execution_count": 2,
   "id": "f174e589-eedc-4fee-b93f-f26dc3112899",
   "metadata": {},
   "outputs": [],
   "source": [
    "from cdqa.pipeline import QAPipeline"
   ]
  },
  {
   "cell_type": "code",
   "execution_count": 3,
   "id": "f3df4d45-ce2d-4d61-b145-8317f11fdab2",
   "metadata": {},
   "outputs": [],
   "source": [
    "from cdqa.utils.download import download_model"
   ]
  },
  {
   "cell_type": "code",
   "execution_count": 41,
   "id": "35640065-aa1b-4025-b742-f2b21894294b",
   "metadata": {},
   "outputs": [],
   "source": [
    "import numpy as np, pandas as pd\n",
    "import matplotlib.pyplot as plt\n",
    "from sklearn.feature_extraction.text import TfidfVectorizer\n",
    "from sklearn.naive_bayes import MultinomialNB\n",
    "from sklearn.pipeline import make_pipeline\n",
    "from sklearn.metrics import confusion_matrix, accuracy_score"
   ]
  },
  {
   "cell_type": "code",
   "execution_count": 42,
   "id": "dfb01532-7d49-434a-8c9d-3f87f9628027",
   "metadata": {},
   "outputs": [],
   "source": [
    "data = pd.read_csv('newClassificationData.csv')"
   ]
  },
  {
   "cell_type": "code",
   "execution_count": 43,
   "id": "516a43f3-171b-46f9-b146-f351b426c806",
   "metadata": {},
   "outputs": [],
   "source": [
    "X = data['title']\n",
    "y = data['label']"
   ]
  },
  {
   "cell_type": "code",
   "execution_count": 44,
   "id": "2ec223df-2854-48cf-bdb9-ad2e1ef2573c",
   "metadata": {},
   "outputs": [],
   "source": [
    "from sklearn.model_selection import train_test_split\n",
    "\n",
    "X_train, X_test, y_train, y_test = train_test_split(X, y, test_size=0.33, random_state=42)"
   ]
  },
  {
   "cell_type": "code",
   "execution_count": 45,
   "id": "2d1ea0ce-e9e7-42a0-9e85-fa4ceeb47f04",
   "metadata": {},
   "outputs": [
    {
     "name": "stderr",
     "output_type": "stream",
     "text": [
      "/home/mshar004/.local/lib/python3.7/site-packages/sklearn/feature_extraction/text.py:1278: RuntimeWarning: divide by zero encountered in true_divide\n",
      "  idf = np.log(n_samples / df) + 1\n"
     ]
    }
   ],
   "source": [
    "# Build the model\n",
    "model = make_pipeline(TfidfVectorizer(), MultinomialNB())\n",
    "\n",
    "# Train the model using the training data\n",
    "model.fit(X_train, y_train)\n",
    "\n",
    "# Predict the categories of the test data\n",
    "predicted_categories = model.predict(X_test)"
   ]
  },
  {
   "cell_type": "code",
   "execution_count": 46,
   "id": "f154d58c-5f5e-4bae-9c71-ff8e74dc08bb",
   "metadata": {},
   "outputs": [
    {
     "name": "stdout",
     "output_type": "stream",
     "text": [
      "The accuracy is 0.8932330827067669\n"
     ]
    }
   ],
   "source": [
    "print(\"The accuracy is {}\".format(accuracy_score(y_test, predicted_categories)))"
   ]
  },
  {
   "cell_type": "code",
   "execution_count": 47,
   "id": "b4ec2323-3cbf-415a-b424-1f64eb84edaf",
   "metadata": {},
   "outputs": [],
   "source": [
    "import matplotlib.pyplot as plt\n",
    "from sklearn import metrics\n",
    "\n",
    "precisions_lr, recalls_lr, thresholds = metrics.precision_recall_curve(y_test,\n",
    "                                                                 model.predict_proba(X_test).T[1])"
   ]
  },
  {
   "cell_type": "code",
   "execution_count": 48,
   "id": "e44b929a-5ece-4688-a24b-d18fd96b8697",
   "metadata": {},
   "outputs": [
    {
     "name": "stdout",
     "output_type": "stream",
     "text": [
      "              precision    recall  f1-score   support\n",
      "\n",
      "           0       0.95      0.85      0.89       353\n",
      "           1       0.85      0.95      0.89       312\n",
      "\n",
      "    accuracy                           0.89       665\n",
      "   macro avg       0.90      0.90      0.89       665\n",
      "weighted avg       0.90      0.89      0.89       665\n",
      "\n"
     ]
    }
   ],
   "source": [
    "from sklearn.metrics import classification_report\n",
    "\n",
    "print(classification_report(y_test, predicted_categories))"
   ]
  },
  {
   "cell_type": "code",
   "execution_count": 367,
   "id": "1aa558d3-5544-4a07-9b17-b21177729e16",
   "metadata": {},
   "outputs": [
    {
     "name": "stdout",
     "output_type": "stream",
     "text": [
      "Defaulting to user installation because normal site-packages is not writeable\n",
      "Collecting tensorflow\n",
      "  Downloading tensorflow-2.7.0-cp37-cp37m-manylinux2010_x86_64.whl (489.6 MB)\n",
      "\u001b[K     |████████████████████████████████| 489.6 MB 13 kB/s s eta 0:00:01  |▏                               | 1.8 MB 2.0 MB/s eta 0:04:09     |▏                               | 3.3 MB 2.0 MB/s eta 0:04:08     |▎                               | 3.7 MB 2.0 MB/s eta 0:04:08     |▊                               | 11.8 MB 10.4 MB/s eta 0:00:46     |█▌                              | 23.4 MB 14.8 MB/s eta 0:00:32     |██████▎                         | 96.3 MB 23.9 MB/s eta 0:00:17     |██████▍                         | 97.9 MB 23.9 MB/s eta 0:00:17     |██████▋                         | 100.9 MB 23.9 MB/s eta 0:00:17     |██████▊                         | 103.0 MB 13.5 MB/s eta 0:00:29     |██████▊                         | 103.4 MB 13.5 MB/s eta 0:00:29     |██████▉                         | 104.3 MB 13.5 MB/s eta 0:00:29     |███████▌                        | 114.0 MB 13.5 MB/s eta 0:00:28     |████████▊                       | 133.4 MB 23.5 MB/s eta 0:00:16     |█████████▌                      | 144.7 MB 25.8 MB/s eta 0:00:14     |██████████▎                     | 156.8 MB 6.5 MB/s eta 0:00:52     |██████████▋                     | 162.7 MB 6.5 MB/s eta 0:00:51     |████████████                    | 182.4 MB 25.9 MB/s eta 0:00:12     |████████████▏                   | 185.4 MB 25.9 MB/s eta 0:00:12     |████████████▎                   | 188.4 MB 6.5 MB/s eta 0:00:47     |████████████▌                   | 190.7 MB 6.5 MB/s eta 0:00:47     |████████████▋                   | 193.2 MB 6.5 MB/s eta 0:00:46     |█████████████                   | 197.2 MB 3.9 MB/s eta 0:01:16     |█████████████                   | 198.0 MB 3.9 MB/s eta 0:01:16     |█████████████                   | 198.3 MB 3.9 MB/s eta 0:01:16     |█████████████▏                  | 201.6 MB 4.9 MB/s eta 0:00:59     |█████████████▎                  | 203.1 MB 4.9 MB/s eta 0:00:59     |█████████████▎                  | 203.8 MB 4.9 MB/s eta 0:00:59     |█████████████▊                  | 210.4 MB 3.2 MB/s eta 0:01:27     |██████████████                  | 213.3 MB 5.2 MB/s eta 0:00:54     |███████████████▍                | 235.3 MB 3.2 MB/s eta 0:01:21     |███████████████▉                | 242.7 MB 4.4 MB/s eta 0:00:57     |████████████████▋               | 253.5 MB 6.0 MB/s eta 0:00:40     |█████████████████▋              | 269.4 MB 6.5 MB/s eta 0:00:34     |█████████████████▋              | 270.1 MB 6.5 MB/s eta 0:00:34     |██████████████████              | 275.5 MB 20.0 MB/s eta 0:00:11     |██████████████████▏             | 277.2 MB 20.0 MB/s eta 0:00:11     |██████████████████▍             | 280.7 MB 20.0 MB/s eta 0:00:11     |██████████████████▉             | 288.1 MB 5.7 MB/s eta 0:00:36     |███████████████████▍            | 296.9 MB 12.7 MB/s eta 0:00:16     |████████████████████▏           | 309.0 MB 6.5 MB/s eta 0:00:28     |███████████████████████▎        | 356.4 MB 10.1 MB/s eta 0:00:14     |████████████████████████▎       | 371.9 MB 5.3 MB/s eta 0:00:23     |████████████████████████▍       | 372.6 MB 5.3 MB/s eta 0:00:23     |████████████████████████▊       | 378.5 MB 5.3 MB/s eta 0:00:22     |████████████████████████▉       | 379.6 MB 5.3 MB/s eta 0:00:21     |█████████████████████████▏      | 385.4 MB 8.4 MB/s eta 0:00:13     |█████████████████████████▎      | 387.4 MB 8.4 MB/s eta 0:00:13     |██████████████████████████      | 397.1 MB 8.4 MB/s eta 0:00:11     |██████████████████████████▋     | 406.9 MB 8.4 MB/s eta 0:00:10     |██████████████████████████████▍ | 464.5 MB 34.6 MB/s eta 0:00:01\n",
      "\u001b[?25hRequirement already satisfied: wrapt>=1.11.0 in ./.local/lib/python3.7/site-packages (from tensorflow) (1.13.3)\n",
      "Requirement already satisfied: gast<0.5.0,>=0.2.1 in ./.local/lib/python3.7/site-packages (from tensorflow) (0.4.0)\n",
      "Requirement already satisfied: tensorflow-io-gcs-filesystem>=0.21.0 in ./.local/lib/python3.7/site-packages (from tensorflow) (0.22.0)\n",
      "Requirement already satisfied: flatbuffers<3.0,>=1.12 in ./.local/lib/python3.7/site-packages (from tensorflow) (2.0)\n",
      "Requirement already satisfied: keras-preprocessing>=1.1.1 in ./.local/lib/python3.7/site-packages (from tensorflow) (1.1.2)\n",
      "Requirement already satisfied: absl-py>=0.4.0 in ./.local/lib/python3.7/site-packages (from tensorflow) (1.0.0)\n",
      "Requirement already satisfied: tensorboard~=2.6 in ./.local/lib/python3.7/site-packages (from tensorflow) (2.7.0)\n",
      "Requirement already satisfied: wheel<1.0,>=0.32.0 in /opt/conda/lib/python3.7/site-packages (from tensorflow) (0.36.2)\n",
      "Requirement already satisfied: google-pasta>=0.1.1 in ./.local/lib/python3.7/site-packages (from tensorflow) (0.2.0)\n",
      "Requirement already satisfied: protobuf>=3.9.2 in ./.local/lib/python3.7/site-packages (from tensorflow) (3.19.1)\n",
      "Requirement already satisfied: tensorflow-estimator<2.8,~=2.7.0rc0 in ./.local/lib/python3.7/site-packages (from tensorflow) (2.7.0)\n",
      "Requirement already satisfied: numpy>=1.14.5 in /opt/conda/lib/python3.7/site-packages (from tensorflow) (1.20.3)\n",
      "Requirement already satisfied: termcolor>=1.1.0 in ./.local/lib/python3.7/site-packages (from tensorflow) (1.1.0)\n",
      "Requirement already satisfied: keras<2.8,>=2.7.0rc0 in ./.local/lib/python3.7/site-packages (from tensorflow) (2.7.0)\n",
      "Requirement already satisfied: h5py>=2.9.0 in ./.local/lib/python3.7/site-packages (from tensorflow) (3.6.0)\n",
      "Requirement already satisfied: astunparse>=1.6.0 in ./.local/lib/python3.7/site-packages (from tensorflow) (1.6.3)\n",
      "Requirement already satisfied: libclang>=9.0.1 in ./.local/lib/python3.7/site-packages (from tensorflow) (12.0.0)\n",
      "Requirement already satisfied: typing-extensions>=3.6.6 in /opt/conda/lib/python3.7/site-packages (from tensorflow) (3.10.0.0)\n",
      "Requirement already satisfied: six>=1.12.0 in /opt/conda/lib/python3.7/site-packages (from tensorflow) (1.16.0)\n",
      "Requirement already satisfied: grpcio<2.0,>=1.24.3 in ./.local/lib/python3.7/site-packages (from tensorflow) (1.42.0)\n",
      "Requirement already satisfied: opt-einsum>=2.3.2 in ./.local/lib/python3.7/site-packages (from tensorflow) (3.3.0)\n",
      "Requirement already satisfied: cached-property in ./.local/lib/python3.7/site-packages (from h5py>=2.9.0->tensorflow) (1.5.2)\n",
      "Requirement already satisfied: tensorboard-data-server<0.7.0,>=0.6.0 in ./.local/lib/python3.7/site-packages (from tensorboard~=2.6->tensorflow) (0.6.1)\n",
      "Requirement already satisfied: werkzeug>=0.11.15 in ./.local/lib/python3.7/site-packages (from tensorboard~=2.6->tensorflow) (2.0.2)\n",
      "Requirement already satisfied: setuptools>=41.0.0 in /opt/conda/lib/python3.7/site-packages (from tensorboard~=2.6->tensorflow) (52.0.0.post20210501)\n",
      "Requirement already satisfied: requests<3,>=2.21.0 in /opt/conda/lib/python3.7/site-packages (from tensorboard~=2.6->tensorflow) (2.25.1)\n",
      "Requirement already satisfied: google-auth-oauthlib<0.5,>=0.4.1 in ./.local/lib/python3.7/site-packages (from tensorboard~=2.6->tensorflow) (0.4.6)\n",
      "Requirement already satisfied: markdown>=2.6.8 in ./.local/lib/python3.7/site-packages (from tensorboard~=2.6->tensorflow) (3.1.1)\n",
      "Requirement already satisfied: tensorboard-plugin-wit>=1.6.0 in ./.local/lib/python3.7/site-packages (from tensorboard~=2.6->tensorflow) (1.8.0)\n",
      "Requirement already satisfied: google-auth<3,>=1.6.3 in ./.local/lib/python3.7/site-packages (from tensorboard~=2.6->tensorflow) (2.3.3)\n",
      "Requirement already satisfied: pyasn1-modules>=0.2.1 in ./.local/lib/python3.7/site-packages (from google-auth<3,>=1.6.3->tensorboard~=2.6->tensorflow) (0.2.8)\n",
      "Requirement already satisfied: rsa<5,>=3.1.4 in ./.local/lib/python3.7/site-packages (from google-auth<3,>=1.6.3->tensorboard~=2.6->tensorflow) (4.8)\n",
      "Requirement already satisfied: cachetools<5.0,>=2.0.0 in ./.local/lib/python3.7/site-packages (from google-auth<3,>=1.6.3->tensorboard~=2.6->tensorflow) (4.2.4)\n",
      "Requirement already satisfied: requests-oauthlib>=0.7.0 in ./.local/lib/python3.7/site-packages (from google-auth-oauthlib<0.5,>=0.4.1->tensorboard~=2.6->tensorflow) (1.3.0)\n",
      "Requirement already satisfied: pyasn1<0.5.0,>=0.4.6 in ./.local/lib/python3.7/site-packages (from pyasn1-modules>=0.2.1->google-auth<3,>=1.6.3->tensorboard~=2.6->tensorflow) (0.4.8)\n",
      "Requirement already satisfied: chardet<5,>=3.0.2 in /opt/conda/lib/python3.7/site-packages (from requests<3,>=2.21.0->tensorboard~=2.6->tensorflow) (4.0.0)\n",
      "Requirement already satisfied: idna<3,>=2.5 in ./.local/lib/python3.7/site-packages (from requests<3,>=2.21.0->tensorboard~=2.6->tensorflow) (2.10)\n",
      "Requirement already satisfied: urllib3<1.27,>=1.21.1 in /opt/conda/lib/python3.7/site-packages (from requests<3,>=2.21.0->tensorboard~=2.6->tensorflow) (1.26.4)\n",
      "Requirement already satisfied: certifi>=2017.4.17 in /opt/conda/lib/python3.7/site-packages (from requests<3,>=2.21.0->tensorboard~=2.6->tensorflow) (2021.5.30)\n",
      "Requirement already satisfied: oauthlib>=3.0.0 in ./.local/lib/python3.7/site-packages (from requests-oauthlib>=0.7.0->google-auth-oauthlib<0.5,>=0.4.1->tensorboard~=2.6->tensorflow) (3.1.1)\n",
      "Installing collected packages: tensorflow\n",
      "\u001b[33m  WARNING: The scripts estimator_ckpt_converter, import_pb_to_tensorboard, saved_model_cli, tensorboard, tf_upgrade_v2, tflite_convert, toco and toco_from_protos are installed in '/home/mshar004/.local/bin' which is not on PATH.\n",
      "  Consider adding this directory to PATH or, if you prefer to suppress this warning, use --no-warn-script-location.\u001b[0m\n",
      "Successfully installed tensorflow-2.7.0\n",
      "Note: you may need to restart the kernel to use updated packages.\n"
     ]
    }
   ],
   "source": [
    "pip install tensorflow"
   ]
  },
  {
   "cell_type": "code",
   "execution_count": 371,
   "id": "c4e79569-adf2-4959-9387-c29ceaf2fed0",
   "metadata": {},
   "outputs": [
    {
     "name": "stdout",
     "output_type": "stream",
     "text": [
      "Defaulting to user installation because normal site-packages is not writeable\n",
      "Collecting tensorflow_text\n",
      "  Downloading tensorflow_text-2.7.3-cp37-cp37m-manylinux2010_x86_64.whl (4.9 MB)\n",
      "\u001b[K     |████████████████████████████████| 4.9 MB 1.7 MB/s eta 0:00:01\n",
      "\u001b[?25hRequirement already satisfied: tensorflow-hub>=0.8.0 in ./.local/lib/python3.7/site-packages (from tensorflow_text) (0.12.0)\n",
      "Requirement already satisfied: tensorflow<2.8,>=2.7.0 in ./.local/lib/python3.7/site-packages (from tensorflow_text) (2.7.0)\n",
      "Requirement already satisfied: absl-py>=0.4.0 in ./.local/lib/python3.7/site-packages (from tensorflow<2.8,>=2.7.0->tensorflow_text) (1.0.0)\n",
      "Requirement already satisfied: google-pasta>=0.1.1 in ./.local/lib/python3.7/site-packages (from tensorflow<2.8,>=2.7.0->tensorflow_text) (0.2.0)\n",
      "Requirement already satisfied: keras-preprocessing>=1.1.1 in ./.local/lib/python3.7/site-packages (from tensorflow<2.8,>=2.7.0->tensorflow_text) (1.1.2)\n",
      "Requirement already satisfied: numpy>=1.14.5 in /opt/conda/lib/python3.7/site-packages (from tensorflow<2.8,>=2.7.0->tensorflow_text) (1.20.3)\n",
      "Requirement already satisfied: opt-einsum>=2.3.2 in ./.local/lib/python3.7/site-packages (from tensorflow<2.8,>=2.7.0->tensorflow_text) (3.3.0)\n",
      "Requirement already satisfied: gast<0.5.0,>=0.2.1 in ./.local/lib/python3.7/site-packages (from tensorflow<2.8,>=2.7.0->tensorflow_text) (0.4.0)\n",
      "Requirement already satisfied: protobuf>=3.9.2 in ./.local/lib/python3.7/site-packages (from tensorflow<2.8,>=2.7.0->tensorflow_text) (3.19.1)\n",
      "Requirement already satisfied: keras<2.8,>=2.7.0rc0 in ./.local/lib/python3.7/site-packages (from tensorflow<2.8,>=2.7.0->tensorflow_text) (2.7.0)\n",
      "Requirement already satisfied: wheel<1.0,>=0.32.0 in /opt/conda/lib/python3.7/site-packages (from tensorflow<2.8,>=2.7.0->tensorflow_text) (0.36.2)\n",
      "Requirement already satisfied: typing-extensions>=3.6.6 in /opt/conda/lib/python3.7/site-packages (from tensorflow<2.8,>=2.7.0->tensorflow_text) (3.10.0.0)\n",
      "Requirement already satisfied: six>=1.12.0 in /opt/conda/lib/python3.7/site-packages (from tensorflow<2.8,>=2.7.0->tensorflow_text) (1.16.0)\n",
      "Requirement already satisfied: h5py>=2.9.0 in ./.local/lib/python3.7/site-packages (from tensorflow<2.8,>=2.7.0->tensorflow_text) (3.6.0)\n",
      "Requirement already satisfied: tensorflow-io-gcs-filesystem>=0.21.0 in ./.local/lib/python3.7/site-packages (from tensorflow<2.8,>=2.7.0->tensorflow_text) (0.22.0)\n",
      "Requirement already satisfied: flatbuffers<3.0,>=1.12 in ./.local/lib/python3.7/site-packages (from tensorflow<2.8,>=2.7.0->tensorflow_text) (2.0)\n",
      "Requirement already satisfied: tensorboard~=2.6 in ./.local/lib/python3.7/site-packages (from tensorflow<2.8,>=2.7.0->tensorflow_text) (2.7.0)\n",
      "Requirement already satisfied: tensorflow-estimator<2.8,~=2.7.0rc0 in ./.local/lib/python3.7/site-packages (from tensorflow<2.8,>=2.7.0->tensorflow_text) (2.7.0)\n",
      "Requirement already satisfied: libclang>=9.0.1 in ./.local/lib/python3.7/site-packages (from tensorflow<2.8,>=2.7.0->tensorflow_text) (12.0.0)\n",
      "Requirement already satisfied: astunparse>=1.6.0 in ./.local/lib/python3.7/site-packages (from tensorflow<2.8,>=2.7.0->tensorflow_text) (1.6.3)\n",
      "Requirement already satisfied: wrapt>=1.11.0 in ./.local/lib/python3.7/site-packages (from tensorflow<2.8,>=2.7.0->tensorflow_text) (1.13.3)\n",
      "Requirement already satisfied: grpcio<2.0,>=1.24.3 in ./.local/lib/python3.7/site-packages (from tensorflow<2.8,>=2.7.0->tensorflow_text) (1.42.0)\n",
      "Requirement already satisfied: termcolor>=1.1.0 in ./.local/lib/python3.7/site-packages (from tensorflow<2.8,>=2.7.0->tensorflow_text) (1.1.0)\n",
      "Requirement already satisfied: cached-property in ./.local/lib/python3.7/site-packages (from h5py>=2.9.0->tensorflow<2.8,>=2.7.0->tensorflow_text) (1.5.2)\n",
      "Requirement already satisfied: requests<3,>=2.21.0 in /opt/conda/lib/python3.7/site-packages (from tensorboard~=2.6->tensorflow<2.8,>=2.7.0->tensorflow_text) (2.25.1)\n",
      "Requirement already satisfied: google-auth<3,>=1.6.3 in ./.local/lib/python3.7/site-packages (from tensorboard~=2.6->tensorflow<2.8,>=2.7.0->tensorflow_text) (2.3.3)\n",
      "Requirement already satisfied: tensorboard-data-server<0.7.0,>=0.6.0 in ./.local/lib/python3.7/site-packages (from tensorboard~=2.6->tensorflow<2.8,>=2.7.0->tensorflow_text) (0.6.1)\n",
      "Requirement already satisfied: markdown>=2.6.8 in ./.local/lib/python3.7/site-packages (from tensorboard~=2.6->tensorflow<2.8,>=2.7.0->tensorflow_text) (3.1.1)\n",
      "Requirement already satisfied: werkzeug>=0.11.15 in ./.local/lib/python3.7/site-packages (from tensorboard~=2.6->tensorflow<2.8,>=2.7.0->tensorflow_text) (2.0.2)\n",
      "Requirement already satisfied: google-auth-oauthlib<0.5,>=0.4.1 in ./.local/lib/python3.7/site-packages (from tensorboard~=2.6->tensorflow<2.8,>=2.7.0->tensorflow_text) (0.4.6)\n",
      "Requirement already satisfied: tensorboard-plugin-wit>=1.6.0 in ./.local/lib/python3.7/site-packages (from tensorboard~=2.6->tensorflow<2.8,>=2.7.0->tensorflow_text) (1.8.0)\n",
      "Requirement already satisfied: setuptools>=41.0.0 in /opt/conda/lib/python3.7/site-packages (from tensorboard~=2.6->tensorflow<2.8,>=2.7.0->tensorflow_text) (52.0.0.post20210501)\n",
      "Requirement already satisfied: pyasn1-modules>=0.2.1 in ./.local/lib/python3.7/site-packages (from google-auth<3,>=1.6.3->tensorboard~=2.6->tensorflow<2.8,>=2.7.0->tensorflow_text) (0.2.8)\n",
      "Requirement already satisfied: cachetools<5.0,>=2.0.0 in ./.local/lib/python3.7/site-packages (from google-auth<3,>=1.6.3->tensorboard~=2.6->tensorflow<2.8,>=2.7.0->tensorflow_text) (4.2.4)\n",
      "Requirement already satisfied: rsa<5,>=3.1.4 in ./.local/lib/python3.7/site-packages (from google-auth<3,>=1.6.3->tensorboard~=2.6->tensorflow<2.8,>=2.7.0->tensorflow_text) (4.8)\n",
      "Requirement already satisfied: requests-oauthlib>=0.7.0 in ./.local/lib/python3.7/site-packages (from google-auth-oauthlib<0.5,>=0.4.1->tensorboard~=2.6->tensorflow<2.8,>=2.7.0->tensorflow_text) (1.3.0)\n",
      "Requirement already satisfied: pyasn1<0.5.0,>=0.4.6 in ./.local/lib/python3.7/site-packages (from pyasn1-modules>=0.2.1->google-auth<3,>=1.6.3->tensorboard~=2.6->tensorflow<2.8,>=2.7.0->tensorflow_text) (0.4.8)\n",
      "Requirement already satisfied: chardet<5,>=3.0.2 in /opt/conda/lib/python3.7/site-packages (from requests<3,>=2.21.0->tensorboard~=2.6->tensorflow<2.8,>=2.7.0->tensorflow_text) (4.0.0)\n",
      "Requirement already satisfied: idna<3,>=2.5 in ./.local/lib/python3.7/site-packages (from requests<3,>=2.21.0->tensorboard~=2.6->tensorflow<2.8,>=2.7.0->tensorflow_text) (2.10)\n",
      "Requirement already satisfied: urllib3<1.27,>=1.21.1 in /opt/conda/lib/python3.7/site-packages (from requests<3,>=2.21.0->tensorboard~=2.6->tensorflow<2.8,>=2.7.0->tensorflow_text) (1.26.4)\n",
      "Requirement already satisfied: certifi>=2017.4.17 in /opt/conda/lib/python3.7/site-packages (from requests<3,>=2.21.0->tensorboard~=2.6->tensorflow<2.8,>=2.7.0->tensorflow_text) (2021.5.30)\n",
      "Requirement already satisfied: oauthlib>=3.0.0 in ./.local/lib/python3.7/site-packages (from requests-oauthlib>=0.7.0->google-auth-oauthlib<0.5,>=0.4.1->tensorboard~=2.6->tensorflow<2.8,>=2.7.0->tensorflow_text) (3.1.1)\n",
      "Installing collected packages: tensorflow-text\n",
      "Successfully installed tensorflow-text-2.7.3\n",
      "Note: you may need to restart the kernel to use updated packages.\n"
     ]
    }
   ],
   "source": [
    "pip install tensorflow_text"
   ]
  },
  {
   "cell_type": "code",
   "execution_count": 12,
   "id": "90f04837-c730-4385-88b1-ef0d5f680b10",
   "metadata": {},
   "outputs": [],
   "source": [
    "import tensorflow as tf\n",
    "import tensorflow_hub as hub\n",
    "import tensorflow_text as text"
   ]
  },
  {
   "cell_type": "code",
   "execution_count": 14,
   "id": "995991d7-ff31-4143-9d51-45dffe2165a3",
   "metadata": {},
   "outputs": [],
   "source": [
    "bert_preprocess = hub.KerasLayer(\"https://tfhub.dev/tensorflow/bert_en_uncased_preprocess/3\")\n",
    "bert_encoder = hub.KerasLayer(\"https://tfhub.dev/tensorflow/bert_en_uncased_L-12_H-768_A-12/4\")"
   ]
  },
  {
   "cell_type": "code",
   "execution_count": 15,
   "id": "41361648-c893-4fef-b1d0-3110421bfa1b",
   "metadata": {},
   "outputs": [],
   "source": [
    "def get_sentence_embeding(sentences):\n",
    "    preprocessed_text = bert_preprocess(sentences)\n",
    "    return bert_encoder(preprocessed_text)['pooled_output']"
   ]
  },
  {
   "cell_type": "code",
   "execution_count": 16,
   "id": "02a52344-71cc-4170-8b66-a8dc0368bff9",
   "metadata": {},
   "outputs": [],
   "source": [
    "text_input = tf.keras.layers.Input(shape=(), dtype=tf.string, name='text')"
   ]
  },
  {
   "cell_type": "code",
   "execution_count": 17,
   "id": "10d91828-9ca3-43a2-86a2-19c9ebd218be",
   "metadata": {},
   "outputs": [],
   "source": [
    "preprocessed_text = bert_preprocess(text_input)\n",
    "outputs = bert_encoder(preprocessed_text)"
   ]
  },
  {
   "cell_type": "code",
   "execution_count": 18,
   "id": "d5b87b84-9a4c-4b31-acc5-96f05cf905d8",
   "metadata": {},
   "outputs": [],
   "source": [
    "l1 = tf.keras.layers.Dropout(0.1, name=\"dropout\")(outputs['pooled_output'])\n",
    "l2 = tf.keras.layers.Dense(1, activation='sigmoid', name=\"output\")(l1)"
   ]
  },
  {
   "cell_type": "code",
   "execution_count": 19,
   "id": "38326072-60b7-4adf-8005-f5a3b71ea111",
   "metadata": {},
   "outputs": [],
   "source": [
    "model = tf.keras.Model(inputs=[text_input], outputs = [l2])"
   ]
  },
  {
   "cell_type": "code",
   "execution_count": 20,
   "id": "8a792f78-7077-4ad6-b583-6882da25abdb",
   "metadata": {},
   "outputs": [
    {
     "name": "stdout",
     "output_type": "stream",
     "text": [
      "Model: \"model\"\n",
      "__________________________________________________________________________________________________\n",
      " Layer (type)                   Output Shape         Param #     Connected to                     \n",
      "==================================================================================================\n",
      " text (InputLayer)              [(None,)]            0           []                               \n",
      "                                                                                                  \n",
      " keras_layer_2 (KerasLayer)     {'input_word_ids':   0           ['text[0][0]']                   \n",
      "                                (None, 128),                                                      \n",
      "                                 'input_type_ids':                                                \n",
      "                                (None, 128),                                                      \n",
      "                                 'input_mask': (Non                                               \n",
      "                                e, 128)}                                                          \n",
      "                                                                                                  \n",
      " keras_layer_3 (KerasLayer)     {'pooled_output': (  109482241   ['keras_layer_2[0][0]',          \n",
      "                                None, 768),                       'keras_layer_2[0][1]',          \n",
      "                                 'default': (None,                'keras_layer_2[0][2]']          \n",
      "                                768),                                                             \n",
      "                                 'sequence_output':                                               \n",
      "                                 (None, 128, 768),                                                \n",
      "                                 'encoder_outputs':                                               \n",
      "                                 [(None, 128, 768),                                               \n",
      "                                 (None, 128, 768),                                                \n",
      "                                 (None, 128, 768),                                                \n",
      "                                 (None, 128, 768),                                                \n",
      "                                 (None, 128, 768),                                                \n",
      "                                 (None, 128, 768),                                                \n",
      "                                 (None, 128, 768),                                                \n",
      "                                 (None, 128, 768),                                                \n",
      "                                 (None, 128, 768),                                                \n",
      "                                 (None, 128, 768),                                                \n",
      "                                 (None, 128, 768),                                                \n",
      "                                 (None, 128, 768)]}                                               \n",
      "                                                                                                  \n",
      " dropout (Dropout)              (None, 768)          0           ['keras_layer_3[0][13]']         \n",
      "                                                                                                  \n",
      " output (Dense)                 (None, 1)            769         ['dropout[0][0]']                \n",
      "                                                                                                  \n",
      "==================================================================================================\n",
      "Total params: 109,483,010\n",
      "Trainable params: 769\n",
      "Non-trainable params: 109,482,241\n",
      "__________________________________________________________________________________________________\n"
     ]
    }
   ],
   "source": [
    "model.summary()"
   ]
  },
  {
   "cell_type": "code",
   "execution_count": 21,
   "id": "4afe56f2-3829-4775-b0ec-f97b044ce96c",
   "metadata": {},
   "outputs": [],
   "source": [
    "METRICS = [\n",
    "      tf.keras.metrics.BinaryAccuracy(name='accuracy'),\n",
    "      tf.keras.metrics.Precision(name='precision'),\n",
    "      tf.keras.metrics.Recall(name='recall')\n",
    "]\n",
    "\n",
    "model.compile(optimizer='adam',\n",
    "              loss='binary_crossentropy',\n",
    "              metrics=METRICS)"
   ]
  },
  {
   "cell_type": "code",
   "execution_count": 22,
   "id": "0a68d563-63bd-4c55-8945-be2b988a9bd5",
   "metadata": {},
   "outputs": [
    {
     "name": "stdout",
     "output_type": "stream",
     "text": [
      "Epoch 1/18\n",
      "43/43 [==============================] - 529s 12s/step - loss: 0.6552 - accuracy: 0.6113 - precision: 0.6095 - recall: 0.6696\n",
      "Epoch 2/18\n",
      "43/43 [==============================] - 529s 12s/step - loss: 0.5638 - accuracy: 0.7381 - precision: 0.7286 - recall: 0.7783\n",
      "Epoch 3/18\n",
      "43/43 [==============================] - 537s 12s/step - loss: 0.5220 - accuracy: 0.7760 - precision: 0.7526 - recall: 0.8377\n",
      "Epoch 4/18\n",
      "43/43 [==============================] - 527s 12s/step - loss: 0.4819 - accuracy: 0.8079 - precision: 0.7839 - recall: 0.8623\n",
      "Epoch 5/18\n",
      "43/43 [==============================] - 514s 12s/step - loss: 0.4551 - accuracy: 0.8160 - precision: 0.8044 - recall: 0.8464\n",
      "Epoch 6/18\n",
      "43/43 [==============================] - 506s 12s/step - loss: 0.4351 - accuracy: 0.8368 - precision: 0.8282 - recall: 0.8594\n",
      "Epoch 7/18\n",
      "43/43 [==============================] - 500s 12s/step - loss: 0.4186 - accuracy: 0.8420 - precision: 0.8236 - recall: 0.8797\n",
      "Epoch 8/18\n",
      "43/43 [==============================] - 506s 12s/step - loss: 0.3951 - accuracy: 0.8553 - precision: 0.8367 - recall: 0.8913\n",
      "Epoch 9/18\n",
      "43/43 [==============================] - 522s 12s/step - loss: 0.3837 - accuracy: 0.8524 - precision: 0.8295 - recall: 0.8957\n",
      "Epoch 10/18\n",
      "43/43 [==============================] - 526s 12s/step - loss: 0.3769 - accuracy: 0.8568 - precision: 0.8456 - recall: 0.8812\n",
      "Epoch 11/18\n",
      "43/43 [==============================] - 532s 12s/step - loss: 0.3716 - accuracy: 0.8613 - precision: 0.8608 - recall: 0.8696\n",
      "Epoch 12/18\n",
      "43/43 [==============================] - 521s 12s/step - loss: 0.3536 - accuracy: 0.8694 - precision: 0.8579 - recall: 0.8928\n",
      "Epoch 13/18\n",
      "43/43 [==============================] - 523s 12s/step - loss: 0.3467 - accuracy: 0.8761 - precision: 0.8647 - recall: 0.8986\n",
      "Epoch 14/18\n",
      "43/43 [==============================] - 518s 12s/step - loss: 0.3358 - accuracy: 0.8776 - precision: 0.8799 - recall: 0.8812\n",
      "Epoch 15/18\n",
      "43/43 [==============================] - 523s 12s/step - loss: 0.3276 - accuracy: 0.8909 - precision: 0.8952 - recall: 0.8913\n",
      "Epoch 16/18\n",
      "43/43 [==============================] - 514s 12s/step - loss: 0.3194 - accuracy: 0.8813 - precision: 0.8754 - recall: 0.8957\n",
      "Epoch 17/18\n",
      "43/43 [==============================] - 519s 12s/step - loss: 0.3224 - accuracy: 0.8820 - precision: 0.8766 - recall: 0.8957\n",
      "Epoch 18/18\n",
      "43/43 [==============================] - 512s 12s/step - loss: 0.3225 - accuracy: 0.8917 - precision: 0.8965 - recall: 0.8913\n"
     ]
    },
    {
     "data": {
      "text/plain": [
       "<keras.callbacks.History at 0x7f19076e6810>"
      ]
     },
     "execution_count": 22,
     "metadata": {},
     "output_type": "execute_result"
    }
   ],
   "source": [
    "model.fit(X_train, y_train, epochs=18)"
   ]
  },
  {
   "cell_type": "code",
   "execution_count": 23,
   "id": "d4ba64ce-c0f0-48d3-b00a-c6da2fbe0b0f",
   "metadata": {},
   "outputs": [
    {
     "name": "stdout",
     "output_type": "stream",
     "text": [
      "21/21 [==============================] - 257s 12s/step - loss: 0.3408 - accuracy: 0.8647 - precision: 0.8208 - recall: 0.9103\n"
     ]
    },
    {
     "data": {
      "text/plain": [
       "[0.34082257747650146,\n",
       " 0.8646616339683533,\n",
       " 0.8208092451095581,\n",
       " 0.9102563858032227]"
      ]
     },
     "execution_count": 23,
     "metadata": {},
     "output_type": "execute_result"
    }
   ],
   "source": [
    "model.evaluate(X_test, y_test)"
   ]
  },
  {
   "cell_type": "code",
   "execution_count": 24,
   "id": "e2fcdb9c-e920-4780-b2cf-325b7ecccab9",
   "metadata": {},
   "outputs": [],
   "source": [
    "y_predicted = model.predict(X_test)\n",
    "y_predicted = y_predicted.flatten()"
   ]
  },
  {
   "cell_type": "code",
   "execution_count": 25,
   "id": "4e57c072-85db-4c4b-97ee-96993fd2ca10",
   "metadata": {},
   "outputs": [
    {
     "data": {
      "text/plain": [
       "array([0, 0, 0, 0, 0, 0, 0, 0, 0, 0, 1, 0, 0, 1, 1, 0, 1, 1, 1, 0, 0, 0,\n",
       "       1, 0, 1, 0, 1, 0, 1, 0, 1, 1, 1, 1, 0, 0, 1, 1, 1, 1, 1, 1, 0, 0,\n",
       "       1, 1, 1, 1, 0, 1, 1, 1, 0, 0, 0, 0, 1, 1, 0, 1, 1, 0, 0, 0, 1, 0,\n",
       "       0, 0, 1, 1, 0, 1, 0, 0, 1, 0, 1, 1, 1, 0, 1, 0, 0, 0, 0, 1, 0, 1,\n",
       "       0, 0, 0, 0, 1, 1, 0, 1, 0, 1, 0, 0, 1, 0, 0, 1, 1, 0, 1, 1, 1, 1,\n",
       "       0, 1, 1, 0, 1, 0, 0, 0, 0, 1, 0, 0, 0, 1, 1, 1, 0, 0, 0, 0, 0, 1,\n",
       "       0, 1, 0, 0, 1, 1, 1, 1, 0, 0, 1, 1, 0, 1, 0, 0, 0, 1, 0, 0, 0, 1,\n",
       "       0, 1, 0, 0, 0, 1, 1, 1, 1, 0, 1, 0, 1, 0, 1, 1, 0, 1, 0, 1, 0, 1,\n",
       "       0, 1, 1, 0, 0, 0, 1, 0, 1, 0, 0, 0, 0, 0, 0, 0, 1, 1, 1, 0, 1, 0,\n",
       "       0, 1, 1, 0, 1, 1, 1, 0, 0, 1, 0, 0, 1, 1, 0, 1, 0, 1, 1, 1, 1, 0,\n",
       "       1, 1, 1, 0, 1, 1, 1, 1, 0, 0, 1, 0, 1, 1, 1, 0, 1, 1, 0, 1, 1, 0,\n",
       "       0, 1, 0, 0, 0, 0, 1, 0, 0, 1, 0, 0, 1, 1, 1, 0, 0, 1, 0, 0, 1, 0,\n",
       "       1, 0, 1, 0, 0, 0, 1, 1, 1, 0, 1, 1, 0, 0, 1, 0, 1, 0, 1, 1, 1, 0,\n",
       "       0, 0, 1, 1, 1, 1, 1, 1, 1, 0, 0, 1, 0, 1, 1, 1, 0, 0, 1, 1, 1, 0,\n",
       "       1, 0, 0, 0, 0, 1, 0, 1, 0, 1, 0, 0, 0, 1, 1, 1, 1, 1, 0, 1, 1, 0,\n",
       "       0, 1, 0, 0, 1, 1, 0, 0, 1, 0, 0, 0, 1, 1, 0, 1, 1, 0, 0, 0, 1, 1,\n",
       "       1, 1, 0, 1, 0, 0, 1, 1, 1, 0, 1, 1, 0, 1, 0, 1, 1, 0, 1, 1, 1, 1,\n",
       "       1, 0, 1, 1, 0, 0, 1, 0, 1, 0, 0, 1, 1, 1, 1, 1, 0, 0, 1, 0, 1, 1,\n",
       "       1, 1, 1, 0, 0, 1, 1, 1, 0, 1, 1, 1, 0, 1, 1, 0, 0, 0, 0, 0, 0, 0,\n",
       "       0, 1, 0, 1, 0, 1, 1, 0, 1, 0, 1, 1, 0, 1, 1, 1, 0, 0, 0, 1, 0, 1,\n",
       "       1, 0, 0, 0, 1, 1, 1, 0, 0, 1, 1, 0, 1, 1, 0, 0, 1, 1, 0, 1, 0, 0,\n",
       "       0, 1, 1, 1, 0, 0, 1, 0, 1, 1, 0, 1, 0, 1, 0, 0, 1, 0, 1, 1, 0, 1,\n",
       "       0, 0, 0, 1, 0, 0, 0, 0, 0, 1, 0, 1, 0, 1, 0, 0, 1, 0, 0, 1, 0, 0,\n",
       "       0, 1, 1, 1, 1, 1, 1, 1, 1, 1, 1, 1, 1, 1, 1, 0, 0, 0, 0, 1, 1, 0,\n",
       "       1, 1, 1, 0, 0, 1, 1, 0, 1, 1, 1, 1, 0, 0, 1, 0, 1, 0, 0, 1, 0, 1,\n",
       "       0, 0, 1, 1, 1, 0, 1, 1, 0, 0, 1, 1, 0, 1, 1, 0, 1, 0, 0, 1, 0, 1,\n",
       "       1, 0, 0, 1, 1, 1, 0, 0, 1, 1, 0, 0, 1, 0, 1, 0, 0, 0, 1, 1, 1, 1,\n",
       "       0, 1, 0, 1, 0, 0, 1, 1, 0, 0, 0, 1, 1, 0, 0, 1, 1, 1, 1, 0, 0, 1,\n",
       "       1, 1, 1, 0, 0, 1, 1, 1, 1, 1, 0, 0, 0, 0, 1, 1, 0, 1, 1, 0, 0, 1,\n",
       "       0, 1, 1, 1, 0, 1, 1, 0, 1, 1, 1, 0, 0, 0, 0, 1, 0, 1, 0, 0, 1, 1,\n",
       "       1, 1, 0, 1, 0])"
      ]
     },
     "execution_count": 25,
     "metadata": {},
     "output_type": "execute_result"
    }
   ],
   "source": [
    "import numpy as np\n",
    "\n",
    "y_predicted = np.where(y_predicted > 0.5, 1, 0)\n",
    "y_predicted"
   ]
  },
  {
   "cell_type": "code",
   "execution_count": 26,
   "id": "82ff5d28-c835-4bff-9aa8-d859bb8c77ec",
   "metadata": {},
   "outputs": [
    {
     "data": {
      "text/plain": [
       "array([[291,  62],\n",
       "       [ 28, 284]])"
      ]
     },
     "execution_count": 26,
     "metadata": {},
     "output_type": "execute_result"
    }
   ],
   "source": [
    "from sklearn.metrics import confusion_matrix, classification_report\n",
    "\n",
    "cm = confusion_matrix(y_test, y_predicted)\n",
    "cm "
   ]
  },
  {
   "cell_type": "code",
   "execution_count": 27,
   "id": "c9a74900-d7dd-4722-ae05-c948137b2942",
   "metadata": {},
   "outputs": [
    {
     "name": "stdout",
     "output_type": "stream",
     "text": [
      "              precision    recall  f1-score   support\n",
      "\n",
      "           0       0.91      0.82      0.87       353\n",
      "           1       0.82      0.91      0.86       312\n",
      "\n",
      "    accuracy                           0.86       665\n",
      "   macro avg       0.87      0.87      0.86       665\n",
      "weighted avg       0.87      0.86      0.86       665\n",
      "\n"
     ]
    }
   ],
   "source": [
    "print(classification_report(y_test, y_predicted))"
   ]
  },
  {
   "cell_type": "code",
   "execution_count": 11,
   "id": "e8abffc2-0b75-474e-8b91-3c23fe6c7c9a",
   "metadata": {},
   "outputs": [
    {
     "name": "stdout",
     "output_type": "stream",
     "text": [
      "Defaulting to user installation because normal site-packages is not writeable\n",
      "Requirement already satisfied: BeautifulSoup4 in ./.local/lib/python3.7/site-packages (4.10.0)\n",
      "Requirement already satisfied: soupsieve>1.2 in ./.local/lib/python3.7/site-packages (from BeautifulSoup4) (2.3.1)\n",
      "Note: you may need to restart the kernel to use updated packages.\n"
     ]
    }
   ],
   "source": [
    "pip install BeautifulSoup4"
   ]
  },
  {
   "cell_type": "code",
   "execution_count": 49,
   "id": "06338418-0c6e-48b5-9ee0-b7fb0f88673e",
   "metadata": {},
   "outputs": [],
   "source": [
    "import requests\n",
    "from bs4 import BeautifulSoup"
   ]
  },
  {
   "cell_type": "code",
   "execution_count": 99,
   "id": "fdfbd761-8b94-44fc-9586-366cd51aa685",
   "metadata": {},
   "outputs": [],
   "source": [
    "url = \"https://news.yahoo.com/\"\n",
    "page =  requests.get(url)  # Use requests.get to download the page."
   ]
  },
  {
   "cell_type": "code",
   "execution_count": 100,
   "id": "752a56e3-d0ca-40b3-8c94-5639a071fd4c",
   "metadata": {},
   "outputs": [],
   "source": [
    "soup = BeautifulSoup(page.text, \"html.parser\")"
   ]
  },
  {
   "cell_type": "code",
   "execution_count": null,
   "id": "85f21292-f478-4e5a-9663-34447a25d9be",
   "metadata": {},
   "outputs": [],
   "source": [
    "headlines = soup.find_all('h3', attrs={'class': 'Mb(5px)'})"
   ]
  },
  {
   "cell_type": "code",
   "execution_count": 102,
   "id": "ba14cd41-b174-448d-8f79-08de7c414864",
   "metadata": {},
   "outputs": [
    {
     "data": {
      "text/plain": [
       "[<h3 class=\"Mb(5px)\" data-reactid=\"62\"><a class=\"js-content-viewer wafer-caas Fw(b) Fz(20px) Lh(23px) Fz(17px)--sm1024 Lh(19px)--sm1024 mega-item-header-link Td(n) C(#0078ff):h C(#000) LineClamp(2,46px) LineClamp(2,38px)--sm1024 not-isInStreamVideoEnabled\" data-reactid=\"63\" data-uuid=\"e80b88ae-26bd-331a-8b2b-e5015cbbf029\" data-wf-caas-prefetch=\"1\" data-wf-caas-uuid=\"e80b88ae-26bd-331a-8b2b-e5015cbbf029\" href=\"/ring-doorbell-footage-captures-potentially-190739620.html\"><u class=\"StretchedBox\" data-reactid=\"64\"></u><!-- react-text: 65 -->Ring doorbell footage captures potentially deadly new TikTok trend<!-- /react-text --></a></h3>,\n",
       " <h3 class=\"Mb(5px)\" data-reactid=\"76\"><a class=\"js-content-viewer wafer-caas Fw(b) Fz(20px) Lh(23px) Fz(17px)--sm1024 Lh(19px)--sm1024 mega-item-header-link Td(n) C(#0078ff):h C(#000) LineClamp(2,46px) LineClamp(2,38px)--sm1024 not-isInStreamVideoEnabled\" data-reactid=\"77\" data-uuid=\"25b78530-c1ad-3e0a-8216-dc3db5fcb1dd\" data-wf-caas-prefetch=\"1\" data-wf-caas-uuid=\"25b78530-c1ad-3e0a-8216-dc3db5fcb1dd\" href=\"/hell-golf-course-employee-shares-181504802.html\"><u class=\"StretchedBox\" data-reactid=\"78\"></u><!-- react-text: 79 -->‘What the hell is this?’: Golf course employee shares bizarre tip she got from customer<!-- /react-text --></a></h3>,\n",
       " <h3 class=\"Mb(5px)\" data-reactid=\"90\"><a class=\"js-content-viewer wafer-caas Fw(b) Fz(20px) Lh(23px) Fz(17px)--sm1024 Lh(19px)--sm1024 mega-item-header-link Td(n) C(#0078ff):h C(#000) LineClamp(2,46px) LineClamp(2,38px)--sm1024 not-isInStreamVideoEnabled\" data-reactid=\"91\" data-uuid=\"2009b8e1-cdfc-3718-a4ba-461d5148c2f2\" data-wf-caas-prefetch=\"1\" data-wf-caas-uuid=\"2009b8e1-cdfc-3718-a4ba-461d5148c2f2\" href=\"/m/2009b8e1-cdfc-3718-a4ba-461d5148c2f2/herschel-walker%E2%80%99s-son.html\"><u class=\"StretchedBox\" data-reactid=\"92\"></u><!-- react-text: 93 -->Herschel Walker’s son protests high gas prices, but some say his $1,300 sweatshirt shows he’s full of hot air<!-- /react-text --></a></h3>,\n",
       " <h3 class=\"Mb(5px)\" data-reactid=\"104\"><a class=\"js-content-viewer wafer-caas Fw(b) Fz(20px) Lh(23px) Fz(17px)--sm1024 Lh(19px)--sm1024 mega-item-header-link Td(n) C(#0078ff):h C(#000) LineClamp(2,46px) LineClamp(2,38px)--sm1024 not-isInStreamVideoEnabled\" data-reactid=\"105\" data-uuid=\"becf8981-85de-3b99-b8be-974720a6dd4f\" data-wf-caas-prefetch=\"1\" data-wf-caas-uuid=\"becf8981-85de-3b99-b8be-974720a6dd4f\" href=\"/homeowner-shares-she-walks-down-162545432.html\"><u class=\"StretchedBox\" data-reactid=\"106\"></u><!-- react-text: 107 -->Woman exposes 'hidden killer' that's popular in old houses: 'Total death traps'<!-- /react-text --></a></h3>,\n",
       " <h3 class=\"Mb(5px)\" data-reactid=\"118\"><a class=\"js-content-viewer wafer-caas Fw(b) Fz(20px) Lh(23px) Fz(17px)--sm1024 Lh(19px)--sm1024 mega-item-header-link Td(n) C(#0078ff):h C(#000) LineClamp(2,46px) LineClamp(2,38px)--sm1024 not-isInStreamVideoEnabled\" data-reactid=\"119\" data-uuid=\"cb0f3edd-3433-36de-9bd9-ec404d9322eb\" data-wf-caas-prefetch=\"1\" data-wf-caas-uuid=\"cb0f3edd-3433-36de-9bd9-ec404d9322eb\" href=\"/8-kids-teens-made-us-184602118.html\"><u class=\"StretchedBox\" data-reactid=\"120\"></u><!-- react-text: 121 -->These Teens Found A Brilliant Way To Prove School Dress Codes Are Sexist And Others Pranked An Entire School Board — Here Are 6 Other Things Youths Did To Win The Internet This Year<!-- /react-text --></a></h3>,\n",
       " <h3 class=\"Mb(5px)\" data-reactid=\"132\"><a class=\"js-content-viewer wafer-caas Fw(b) Fz(20px) Lh(23px) Fz(17px)--sm1024 Lh(19px)--sm1024 mega-item-header-link Td(n) C(#0078ff):h C(#000) LineClamp(2,46px) LineClamp(2,38px)--sm1024 not-isInStreamVideoEnabled\" data-reactid=\"133\" data-uuid=\"b499d6fc-8b4f-332a-b6cd-7757cf118d80\" data-wf-caas-prefetch=\"1\" data-wf-caas-uuid=\"b499d6fc-8b4f-332a-b6cd-7757cf118d80\" href=\"/went-flying-kentucky-family-says-193137396.html\"><u class=\"StretchedBox\" data-reactid=\"134\"></u><!-- react-text: 135 -->‘We all went flying,’ Kentucky family says after tornado sucked them out of bathroom<!-- /react-text --></a></h3>,\n",
       " <h3 class=\"Mb(5px)\" data-reactid=\"161\"><a class=\"js-content-viewer wafer-caas Fw(b) Fz(20px) Lh(23px) Fz(17px)--sm1024 Lh(19px)--sm1024 mega-item-header-link Td(n) C(#0078ff):h C(#000) LineClamp(2,46px) LineClamp(2,38px)--sm1024 not-isInStreamVideoEnabled\" data-reactid=\"162\" data-uuid=\"f0b30ba9-c4e5-4a24-9b9b-6a0f043ef34e\" data-wf-caas-prefetch=\"1\" data-wf-caas-uuid=\"f0b30ba9-c4e5-4a24-9b9b-6a0f043ef34e\" href=\"/jk-rowling-accused-of-perpetuating-a-false-narrative-that-trans-women-are-predators-in-latest-tweet-200447279.html\"><u class=\"StretchedBox\" data-reactid=\"163\"></u><!-- react-text: 164 -->J.K. Rowling accused of perpetuating a 'false narrative' that trans women are 'predators' in latest tweet<!-- /react-text --></a></h3>,\n",
       " <h3 class=\"Mb(5px)\" data-reactid=\"190\"><a class=\"js-content-viewer wafer-caas Fw(b) Fz(20px) Lh(23px) Fz(17px)--sm1024 Lh(19px)--sm1024 mega-item-header-link Td(n) C(#0078ff):h C(#000) LineClamp(2,46px) LineClamp(2,38px)--sm1024 not-isInStreamVideoEnabled\" data-reactid=\"191\" data-uuid=\"2eee5c0f-db6f-3ccd-b796-bd720acabfb4\" data-wf-caas-prefetch=\"1\" data-wf-caas-uuid=\"2eee5c0f-db6f-3ccd-b796-bd720acabfb4\" href=\"/pizzeria-owner-knocked-unconscious-while-172255681.html\"><u class=\"StretchedBox\" data-reactid=\"192\"></u><!-- react-text: 193 -->Pizzeria owner knocked unconscious while breaking up fight, North Carolina video shows<!-- /react-text --></a></h3>,\n",
       " <h3 class=\"Mb(5px)\" data-reactid=\"203\"><a class=\"js-content-viewer wafer-caas Fw(b) Fz(20px) Lh(23px) Fz(17px)--sm1024 Lh(19px)--sm1024 mega-item-header-link Td(n) C(#0078ff):h C(#000) LineClamp(4,92px) LineClamp(4,76px)--sm1024 isInStreamVideoEnabled\" data-reactid=\"204\" data-uuid=\"569099a5-10a4-3283-b036-52ad757baefe\" data-wf-caas-prefetch=\"1\" data-wf-caas-uuid=\"569099a5-10a4-3283-b036-52ad757baefe\" href=\"/investigators-scene-russian-teenager-blows-170126936.html\"><u class=\"StretchedBox\" data-reactid=\"205\"></u><!-- react-text: 206 -->Investigators at the scene after Russian teenager 'blows himself up' at Orthodox school<!-- /react-text --></a></h3>,\n",
       " <h3 class=\"Mb(5px)\" data-reactid=\"217\"><a class=\"js-content-viewer wafer-caas Fw(b) Fz(20px) Lh(23px) Fz(17px)--sm1024 Lh(19px)--sm1024 mega-item-header-link Td(n) C(#0078ff):h C(#000) LineClamp(2,46px) LineClamp(2,38px)--sm1024 not-isInStreamVideoEnabled\" data-reactid=\"218\" data-uuid=\"97eebde8-638a-3e85-ad3e-64151698abce\" data-wf-caas-prefetch=\"1\" data-wf-caas-uuid=\"97eebde8-638a-3e85-ad3e-64151698abce\" href=\"/danish-ex-minister-convicted-child-142023820.html\"><u class=\"StretchedBox\" data-reactid=\"219\"></u><!-- react-text: 220 -->Danish ex-minister convicted in 'child bride' impeachment case<!-- /react-text --></a></h3>,\n",
       " <h3 class=\"Mb(5px)\" data-reactid=\"231\"><a class=\"js-content-viewer wafer-caas Fw(b) Fz(20px) Lh(23px) Fz(17px)--sm1024 Lh(19px)--sm1024 mega-item-header-link Td(n) C(#0078ff):h C(#000) LineClamp(2,46px) LineClamp(2,38px)--sm1024 not-isInStreamVideoEnabled\" data-reactid=\"232\" data-uuid=\"ef52959e-1574-39a6-beb7-84502d062cca\" data-wf-caas-prefetch=\"1\" data-wf-caas-uuid=\"ef52959e-1574-39a6-beb7-84502d062cca\" href=\"/pennsylvania-man-planted-explosives-blm-190100238.html\"><u class=\"StretchedBox\" data-reactid=\"233\"></u><!-- react-text: 234 -->Pennsylvania Man Who Planted Explosives After BLM Protest Sentenced to Probation, Thanks to Judge Who Was Convinced ‘He Had a Breakdown’<!-- /react-text --></a></h3>,\n",
       " <h3 class=\"Mb(5px)\" data-reactid=\"245\"><a class=\"js-content-viewer wafer-caas Fw(b) Fz(20px) Lh(23px) Fz(17px)--sm1024 Lh(19px)--sm1024 mega-item-header-link Td(n) C(#0078ff):h C(#000) LineClamp(2,46px) LineClamp(2,38px)--sm1024 not-isInStreamVideoEnabled\" data-reactid=\"246\" data-uuid=\"b3f23708-927a-3881-bfbd-5d382b80aae8\" data-wf-caas-prefetch=\"1\" data-wf-caas-uuid=\"b3f23708-927a-3881-bfbd-5d382b80aae8\" href=\"/column-rand-paul-demands-federal-194413839.html\"><u class=\"StretchedBox\" data-reactid=\"247\"></u><!-- react-text: 248 -->Column: Rand Paul demands federal disaster aid for Kentucky, after voting against it for everyone else<!-- /react-text --></a></h3>,\n",
       " <h3 class=\"Mb(5px)\" data-reactid=\"259\"><a class=\"js-content-viewer wafer-caas Fw(b) Fz(20px) Lh(23px) Fz(17px)--sm1024 Lh(19px)--sm1024 mega-item-header-link Td(n) C(#0078ff):h C(#000) LineClamp(2,46px) LineClamp(2,38px)--sm1024 not-isInStreamVideoEnabled\" data-reactid=\"260\" data-uuid=\"96357eec-ea77-31e2-a7c0-64f75791d103\" data-wf-caas-prefetch=\"1\" data-wf-caas-uuid=\"96357eec-ea77-31e2-a7c0-64f75791d103\" href=\"/bacon-law-begin-california-grocers-140603417.html\"><u class=\"StretchedBox\" data-reactid=\"261\"></u><!-- react-text: 262 -->Will new bacon law begin? California grocers seek delay<!-- /react-text --></a></h3>,\n",
       " <h3 class=\"Mb(5px)\" data-reactid=\"288\"><a class=\"js-content-viewer wafer-caas Fw(b) Fz(20px) Lh(23px) Fz(17px)--sm1024 Lh(19px)--sm1024 mega-item-header-link Td(n) C(#0078ff):h C(#000) LineClamp(2,46px) LineClamp(2,38px)--sm1024 not-isInStreamVideoEnabled\" data-reactid=\"289\" data-uuid=\"03267e53-1425-32ea-9f0e-6b01dd3d69e3\" data-wf-caas-prefetch=\"1\" data-wf-caas-uuid=\"03267e53-1425-32ea-9f0e-6b01dd3d69e3\" href=\"/donald-trump-bill-oreilly-struggled-155509628.html\"><u class=\"StretchedBox\" data-reactid=\"290\"></u><!-- react-text: 291 -->Donald Trump and Bill O'Reilly struggled with poor turnout at tour debut, with upper deck ticket holders 'upgraded' to fill lower bowl of 'cavernous' Florida Panthers arena<!-- /react-text --></a></h3>,\n",
       " <h3 class=\"Mb(5px)\" data-reactid=\"317\"><a class=\"js-content-viewer wafer-caas Fw(b) Fz(20px) Lh(23px) Fz(17px)--sm1024 Lh(19px)--sm1024 mega-item-header-link Td(n) C(#0078ff):h C(#000) LineClamp(2,46px) LineClamp(2,38px)--sm1024 not-isInStreamVideoEnabled\" data-reactid=\"318\" data-uuid=\"a7233eb9-77e2-3874-916a-71a2ed174442\" data-wf-caas-prefetch=\"1\" data-wf-caas-uuid=\"a7233eb9-77e2-3874-916a-71a2ed174442\" href=\"/principal-lebron-james-promise-school-143911577.html\"><u class=\"StretchedBox\" data-reactid=\"319\"></u><!-- react-text: 320 -->Principal Of LeBron James’ I Promise School Resigns After Allegedly Slapping An 11-Year-Old Student In The Face<!-- /react-text --></a></h3>,\n",
       " <h3 class=\"Mb(5px)\" data-reactid=\"331\"><a class=\"js-content-viewer wafer-caas Fw(b) Fz(20px) Lh(23px) Fz(17px)--sm1024 Lh(19px)--sm1024 mega-item-header-link Td(n) C(#0078ff):h C(#000) LineClamp(2,46px) LineClamp(2,38px)--sm1024 not-isInStreamVideoEnabled\" data-reactid=\"332\" data-uuid=\"d2220908-970e-3946-8403-30b90a387202\" data-wf-caas-prefetch=\"1\" data-wf-caas-uuid=\"d2220908-970e-3946-8403-30b90a387202\" href=\"/russia-says-lack-nato-security-075933695.html\"><u class=\"StretchedBox\" data-reactid=\"333\"></u><!-- react-text: 334 -->Russia says it may be forced to deploy mid-range nuclear missiles in Europe<!-- /react-text --></a></h3>,\n",
       " <h3 class=\"Mb(5px)\" data-reactid=\"360\"><a class=\"js-content-viewer wafer-caas Fw(b) Fz(20px) Lh(23px) Fz(17px)--sm1024 Lh(19px)--sm1024 mega-item-header-link Td(n) C(#0078ff):h C(#000) LineClamp(2,46px) LineClamp(2,38px)--sm1024 not-isInStreamVideoEnabled\" data-reactid=\"361\" data-uuid=\"56af26de-ea56-3d0e-a470-3c21e1285d00\" data-wf-caas-prefetch=\"1\" data-wf-caas-uuid=\"56af26de-ea56-3d0e-a470-3c21e1285d00\" href=\"/miss-india-wins-miss-universe-031446204.html\"><u class=\"StretchedBox\" data-reactid=\"362\"></u><!-- react-text: 363 -->Miss India Wins Miss Universe 2021<!-- /react-text --></a></h3>,\n",
       " <h3 class=\"Mb(5px)\" data-reactid=\"389\"><a class=\"js-content-viewer wafer-caas Fw(b) Fz(20px) Lh(23px) Fz(17px)--sm1024 Lh(19px)--sm1024 mega-item-header-link Td(n) C(#0078ff):h C(#000) LineClamp(2,46px) LineClamp(2,38px)--sm1024 not-isInStreamVideoEnabled\" data-reactid=\"390\" data-uuid=\"bbe43bee-5fea-3a00-b61c-42160d64e67a\" data-wf-caas-prefetch=\"1\" data-wf-caas-uuid=\"bbe43bee-5fea-3a00-b61c-42160d64e67a\" href=\"/don-t-anything-stupid-because-133000429.html\"><u class=\"StretchedBox\" data-reactid=\"391\"></u><!-- react-text: 392 -->‘Don’t Say Anything Stupid, Because You’re Just Going to Get Arrested’: Black Man Handcuffed After Bank Falsely Claims His Paycheck Was Fake<!-- /react-text --></a></h3>,\n",
       " <h3 class=\"Mb(5px)\" data-reactid=\"403\"><a class=\"Fw(b) Fz(20px) Lh(23px) Fz(17px)--sm1024 Lh(19px)--sm1024 mega-item-header-link Td(n) C(#0078ff):h C(#000) LineClamp(2,46px) LineClamp(2,38px)--sm1024 not-isInStreamVideoEnabled\" data-reactid=\"404\" href=\"https://www.autoblog.com/2021/12/13/milwaukee-stolen-cars-hyundai-kia/\"><u class=\"StretchedBox\" data-reactid=\"405\"></u><!-- react-text: 406 -->Milwaukee car thieves are crazy for Hyundais and Kias<!-- /react-text --></a></h3>,\n",
       " <h3 class=\"Mb(5px)\" data-reactid=\"417\"><a class=\"js-content-viewer wafer-caas Fw(b) Fz(20px) Lh(23px) Fz(17px)--sm1024 Lh(19px)--sm1024 mega-item-header-link Td(n) C(#0078ff):h C(#000) LineClamp(2,46px) LineClamp(2,38px)--sm1024 not-isInStreamVideoEnabled\" data-reactid=\"418\" data-uuid=\"643f3ed1-9ca9-3c3f-a020-a40865531f9d\" data-wf-caas-prefetch=\"1\" data-wf-caas-uuid=\"643f3ed1-9ca9-3c3f-a020-a40865531f9d\" href=\"/hillary-clinton-predicts-trump-run-174410893.html\"><u class=\"StretchedBox\" data-reactid=\"419\"></u><!-- react-text: 420 -->Hillary Clinton predicts Trump will run for president in 2024 and says a win by him 'could be the end of our democracy'<!-- /react-text --></a></h3>,\n",
       " <h3 class=\"Mb(5px)\" data-reactid=\"446\"><a class=\"js-content-viewer wafer-caas Fw(b) Fz(20px) Lh(23px) Fz(17px)--sm1024 Lh(19px)--sm1024 mega-item-header-link Td(n) C(#0078ff):h C(#000) LineClamp(2,46px) LineClamp(2,38px)--sm1024 not-isInStreamVideoEnabled\" data-reactid=\"447\" data-uuid=\"fc65b00e-4539-37e0-a7fa-60179e3b88cd\" data-wf-caas-prefetch=\"1\" data-wf-caas-uuid=\"fc65b00e-4539-37e0-a7fa-60179e3b88cd\" href=\"/could-ocean-citys-topless-ordinance-100024319.html\"><u class=\"StretchedBox\" data-reactid=\"448\"></u><!-- react-text: 449 -->Could Ocean City's topless ordinance head to the Supreme Court? The latest legal battle<!-- /react-text --></a></h3>,\n",
       " <h3 class=\"Mb(5px)\" data-reactid=\"460\"><a class=\"js-content-viewer wafer-caas Fw(b) Fz(20px) Lh(23px) Fz(17px)--sm1024 Lh(19px)--sm1024 mega-item-header-link Td(n) C(#0078ff):h C(#000) LineClamp(2,46px) LineClamp(2,38px)--sm1024 not-isInStreamVideoEnabled\" data-reactid=\"461\" data-uuid=\"3f992147-a4ae-35c5-900d-d7a171252a89\" data-wf-caas-prefetch=\"1\" data-wf-caas-uuid=\"3f992147-a4ae-35c5-900d-d7a171252a89\" href=\"/harnaaz-sandhu-india-named-70th-030202340.html\"><u class=\"StretchedBox\" data-reactid=\"462\"></u><!-- react-text: 463 -->Miss Universe is India's Harnaaz Sandhu, 70th winner<!-- /react-text --></a></h3>,\n",
       " <h3 class=\"Mb(5px)\" data-reactid=\"489\"><a class=\"js-content-viewer wafer-caas Fw(b) Fz(20px) Lh(23px) Fz(17px)--sm1024 Lh(19px)--sm1024 mega-item-header-link Td(n) C(#0078ff):h C(#000) LineClamp(2,46px) LineClamp(2,38px)--sm1024 not-isInStreamVideoEnabled\" data-reactid=\"490\" data-uuid=\"c49d8a06-a330-316c-929c-6704e6ffc82c\" data-wf-caas-prefetch=\"1\" data-wf-caas-uuid=\"c49d8a06-a330-316c-929c-6704e6ffc82c\" href=\"/18-horrific-bosses-2021-made-191602498.html\"><u class=\"StretchedBox\" data-reactid=\"491\"></u><!-- react-text: 492 -->18 Horrific Bosses In 2021 That Made People Say, \"Screw It — I'm Working From Home Forever\"<!-- /react-text --></a></h3>,\n",
       " <h3 class=\"Mb(5px)\" data-reactid=\"503\"><a class=\"js-content-viewer wafer-caas Fw(b) Fz(20px) Lh(23px) Fz(17px)--sm1024 Lh(19px)--sm1024 mega-item-header-link Td(n) C(#0078ff):h C(#000) LineClamp(2,46px) LineClamp(2,38px)--sm1024 not-isInStreamVideoEnabled\" data-reactid=\"504\" data-uuid=\"a0417f70-55cb-316e-bd97-44884ec9f406\" data-wf-caas-prefetch=\"1\" data-wf-caas-uuid=\"a0417f70-55cb-316e-bd97-44884ec9f406\" href=\"/heres-30-days-mountain-climbers-165300291.html\"><u class=\"StretchedBox\" data-reactid=\"505\"></u><!-- react-text: 506 -->Here's What 30 Days of Mountain Climbers Did to This Man's Body<!-- /react-text --></a></h3>,\n",
       " <h3 class=\"Mb(5px)\" data-reactid=\"516\"><a class=\"js-content-viewer wafer-caas Fw(b) Fz(20px) Lh(23px) Fz(17px)--sm1024 Lh(19px)--sm1024 mega-item-header-link Td(n) C(#0078ff):h C(#000) LineClamp(4,92px) LineClamp(4,76px)--sm1024 isInStreamVideoEnabled\" data-reactid=\"517\" data-uuid=\"07503a11-a313-3caa-979a-0b28defd63b7\" data-wf-caas-prefetch=\"1\" data-wf-caas-uuid=\"07503a11-a313-3caa-979a-0b28defd63b7\" href=\"/woods-flattened-central-kentucky-tornado-105348041.html\"><u class=\"StretchedBox\" data-reactid=\"518\"></u><!-- react-text: 519 -->Woods Flattened in Central Kentucky After Tornado<!-- /react-text --></a></h3>]"
      ]
     },
     "execution_count": 102,
     "metadata": {},
     "output_type": "execute_result"
    }
   ],
   "source": [
    "headlines"
   ]
  },
  {
   "cell_type": "code",
   "execution_count": 103,
   "id": "ef6117e7-b268-4c61-9048-c226c5bd16ee",
   "metadata": {},
   "outputs": [],
   "source": [
    "titles = [headline.text for headline in headlines]"
   ]
  },
  {
   "cell_type": "code",
   "execution_count": 104,
   "id": "aa637db6-a746-420b-b338-591580495b5f",
   "metadata": {},
   "outputs": [
    {
     "data": {
      "text/plain": [
       "['Ring doorbell footage captures potentially deadly new TikTok trend',\n",
       " '‘What the hell is this?’: Golf course employee shares bizarre tip she got from customer',\n",
       " 'Herschel Walker’s son protests high gas prices, but some say his $1,300 sweatshirt shows he’s full of hot air',\n",
       " \"Woman exposes 'hidden killer' that's popular in old houses: 'Total death traps'\",\n",
       " 'These Teens Found A Brilliant Way To Prove School Dress Codes Are Sexist And Others Pranked An Entire School Board — Here Are 6 Other Things Youths Did To Win The Internet This Year',\n",
       " '‘We all went flying,’ Kentucky family says after tornado sucked them out of bathroom',\n",
       " \"J.K. Rowling accused of perpetuating a 'false narrative' that trans women are 'predators' in latest tweet\",\n",
       " 'Pizzeria owner knocked unconscious while breaking up fight, North Carolina video shows',\n",
       " \"Investigators at the scene after Russian teenager 'blows himself up' at Orthodox school\",\n",
       " \"Danish ex-minister convicted in 'child bride' impeachment case\",\n",
       " 'Pennsylvania Man Who Planted Explosives After BLM Protest Sentenced to Probation, Thanks to Judge Who Was Convinced ‘He Had a Breakdown’',\n",
       " 'Column: Rand Paul demands federal disaster aid for Kentucky, after voting against it for everyone else',\n",
       " 'Will new bacon law begin? California grocers seek delay',\n",
       " \"Donald Trump and Bill O'Reilly struggled with poor turnout at tour debut, with upper deck ticket holders 'upgraded' to fill lower bowl of 'cavernous' Florida Panthers arena\",\n",
       " 'Principal Of LeBron James’ I Promise School Resigns After Allegedly Slapping An 11-Year-Old Student In The Face',\n",
       " 'Russia says it may be forced to deploy mid-range nuclear missiles in Europe',\n",
       " 'Miss India Wins Miss Universe 2021',\n",
       " '‘Don’t Say Anything Stupid, Because You’re Just Going to Get Arrested’: Black Man Handcuffed After Bank Falsely Claims His Paycheck Was Fake',\n",
       " 'Milwaukee car thieves are crazy for Hyundais and Kias',\n",
       " \"Hillary Clinton predicts Trump will run for president in 2024 and says a win by him 'could be the end of our democracy'\",\n",
       " \"Could Ocean City's topless ordinance head to the Supreme Court? The latest legal battle\",\n",
       " \"Miss Universe is India's Harnaaz Sandhu, 70th winner\",\n",
       " '18 Horrific Bosses In 2021 That Made People Say, \"Screw It — I\\'m Working From Home Forever\"',\n",
       " \"Here's What 30 Days of Mountain Climbers Did to This Man's Body\",\n",
       " 'Woods Flattened in Central Kentucky After Tornado']"
      ]
     },
     "execution_count": 104,
     "metadata": {},
     "output_type": "execute_result"
    }
   ],
   "source": [
    "titles"
   ]
  },
  {
   "cell_type": "code",
   "execution_count": 54,
   "id": "bee267cc-d2b8-4098-8176-6be99f825109",
   "metadata": {},
   "outputs": [],
   "source": [
    "links = [\"https://news.yahoo.com\" + link.select('a')[0]['href'] for link in headlines]"
   ]
  },
  {
   "cell_type": "code",
   "execution_count": 55,
   "id": "50205d06-27f8-440d-bf3f-dd6861e27337",
   "metadata": {},
   "outputs": [
    {
     "data": {
      "text/plain": [
       "['https://news.yahoo.com/ring-doorbell-footage-captures-potentially-190739620.html',\n",
       " 'https://news.yahoo.com/hell-golf-course-employee-shares-181504802.html',\n",
       " 'https://news.yahoo.com/m/2009b8e1-cdfc-3718-a4ba-461d5148c2f2/herschel-walker%E2%80%99s-son.html',\n",
       " 'https://news.yahoo.com/homeowner-shares-she-walks-down-162545432.html',\n",
       " 'https://news.yahoo.com/8-kids-teens-made-us-184602118.html',\n",
       " 'https://news.yahoo.com/went-flying-kentucky-family-says-193137396.html',\n",
       " 'https://news.yahoo.com/jk-rowling-accused-of-perpetuating-a-false-narrative-that-trans-women-are-predators-in-latest-tweet-200447279.html',\n",
       " 'https://news.yahoo.com/pizzeria-owner-knocked-unconscious-while-172255681.html',\n",
       " 'https://news.yahoo.com/investigators-scene-russian-teenager-blows-170126936.html',\n",
       " 'https://news.yahoo.com/danish-ex-minister-convicted-child-142023820.html',\n",
       " 'https://news.yahoo.com/pennsylvania-man-planted-explosives-blm-190100238.html',\n",
       " 'https://news.yahoo.com/column-rand-paul-demands-federal-194413839.html',\n",
       " 'https://news.yahoo.com/bacon-law-begin-california-grocers-140603417.html',\n",
       " 'https://news.yahoo.com/donald-trump-bill-oreilly-struggled-155509628.html',\n",
       " 'https://news.yahoo.com/principal-lebron-james-promise-school-143911577.html',\n",
       " 'https://news.yahoo.com/russia-says-lack-nato-security-075933695.html',\n",
       " 'https://news.yahoo.com/miss-india-wins-miss-universe-031446204.html',\n",
       " 'https://news.yahoo.com/don-t-anything-stupid-because-133000429.html',\n",
       " 'https://news.yahoo.comhttps://www.autoblog.com/2021/12/13/milwaukee-stolen-cars-hyundai-kia/',\n",
       " 'https://news.yahoo.com/hillary-clinton-predicts-trump-run-174410893.html',\n",
       " 'https://news.yahoo.com/could-ocean-citys-topless-ordinance-100024319.html',\n",
       " 'https://news.yahoo.com/harnaaz-sandhu-india-named-70th-030202340.html',\n",
       " 'https://news.yahoo.com/18-horrific-bosses-2021-made-191602498.html',\n",
       " 'https://news.yahoo.com/heres-30-days-mountain-climbers-165300291.html',\n",
       " 'https://news.yahoo.com/woods-flattened-central-kentucky-tornado-105348041.html']"
      ]
     },
     "execution_count": 55,
     "metadata": {},
     "output_type": "execute_result"
    }
   ],
   "source": [
    "links"
   ]
  },
  {
   "cell_type": "code",
   "execution_count": 56,
   "id": "03780597-7b31-4eae-b17e-079ddfc9f422",
   "metadata": {},
   "outputs": [],
   "source": [
    "df = pd.DataFrame(list(zip(titles, links)), columns =['titles', 'links'])"
   ]
  },
  {
   "cell_type": "code",
   "execution_count": 57,
   "id": "9b343fd9-82fa-4b5f-a0cf-5c97ade6b7f1",
   "metadata": {},
   "outputs": [],
   "source": [
    "X = df['titles']"
   ]
  },
  {
   "cell_type": "code",
   "execution_count": 58,
   "id": "f357fdc8-5c52-44c2-982b-03a165cbedbc",
   "metadata": {},
   "outputs": [],
   "source": [
    "predicted_categories = model.predict(X)"
   ]
  },
  {
   "cell_type": "code",
   "execution_count": 59,
   "id": "cc798914-9e41-441a-a599-4f809e539c20",
   "metadata": {},
   "outputs": [],
   "source": [
    "df['predicted_label'] = predicted_categories"
   ]
  },
  {
   "cell_type": "code",
   "execution_count": 60,
   "id": "a5a9a91b-d97e-4ea7-bfe6-8d944f3100c1",
   "metadata": {},
   "outputs": [],
   "source": [
    "df2 = df[df['predicted_label'] == 1]"
   ]
  },
  {
   "cell_type": "code",
   "execution_count": 61,
   "id": "66fb3400-aca7-4ded-be95-ef6782354719",
   "metadata": {},
   "outputs": [
    {
     "data": {
      "text/html": [
       "<div>\n",
       "<style scoped>\n",
       "    .dataframe tbody tr th:only-of-type {\n",
       "        vertical-align: middle;\n",
       "    }\n",
       "\n",
       "    .dataframe tbody tr th {\n",
       "        vertical-align: top;\n",
       "    }\n",
       "\n",
       "    .dataframe thead th {\n",
       "        text-align: right;\n",
       "    }\n",
       "</style>\n",
       "<table border=\"1\" class=\"dataframe\">\n",
       "  <thead>\n",
       "    <tr style=\"text-align: right;\">\n",
       "      <th></th>\n",
       "      <th>titles</th>\n",
       "      <th>links</th>\n",
       "      <th>predicted_label</th>\n",
       "    </tr>\n",
       "  </thead>\n",
       "  <tbody>\n",
       "    <tr>\n",
       "      <th>0</th>\n",
       "      <td>Ring doorbell footage captures potentially dea...</td>\n",
       "      <td>https://news.yahoo.com/ring-doorbell-footage-c...</td>\n",
       "      <td>1</td>\n",
       "    </tr>\n",
       "    <tr>\n",
       "      <th>1</th>\n",
       "      <td>‘What the hell is this?’: Golf course employee...</td>\n",
       "      <td>https://news.yahoo.com/hell-golf-course-employ...</td>\n",
       "      <td>1</td>\n",
       "    </tr>\n",
       "    <tr>\n",
       "      <th>4</th>\n",
       "      <td>These Teens Found A Brilliant Way To Prove Sch...</td>\n",
       "      <td>https://news.yahoo.com/8-kids-teens-made-us-18...</td>\n",
       "      <td>1</td>\n",
       "    </tr>\n",
       "    <tr>\n",
       "      <th>16</th>\n",
       "      <td>Miss India Wins Miss Universe 2021</td>\n",
       "      <td>https://news.yahoo.com/miss-india-wins-miss-un...</td>\n",
       "      <td>1</td>\n",
       "    </tr>\n",
       "    <tr>\n",
       "      <th>17</th>\n",
       "      <td>‘Don’t Say Anything Stupid, Because You’re Jus...</td>\n",
       "      <td>https://news.yahoo.com/don-t-anything-stupid-b...</td>\n",
       "      <td>1</td>\n",
       "    </tr>\n",
       "    <tr>\n",
       "      <th>18</th>\n",
       "      <td>Milwaukee car thieves are crazy for Hyundais a...</td>\n",
       "      <td>https://news.yahoo.comhttps://www.autoblog.com...</td>\n",
       "      <td>1</td>\n",
       "    </tr>\n",
       "    <tr>\n",
       "      <th>21</th>\n",
       "      <td>Miss Universe is India's Harnaaz Sandhu, 70th ...</td>\n",
       "      <td>https://news.yahoo.com/harnaaz-sandhu-india-na...</td>\n",
       "      <td>1</td>\n",
       "    </tr>\n",
       "    <tr>\n",
       "      <th>22</th>\n",
       "      <td>18 Horrific Bosses In 2021 That Made People Sa...</td>\n",
       "      <td>https://news.yahoo.com/18-horrific-bosses-2021...</td>\n",
       "      <td>1</td>\n",
       "    </tr>\n",
       "    <tr>\n",
       "      <th>23</th>\n",
       "      <td>Here's What 30 Days of Mountain Climbers Did t...</td>\n",
       "      <td>https://news.yahoo.com/heres-30-days-mountain-...</td>\n",
       "      <td>1</td>\n",
       "    </tr>\n",
       "  </tbody>\n",
       "</table>\n",
       "</div>"
      ],
      "text/plain": [
       "                                               titles  \\\n",
       "0   Ring doorbell footage captures potentially dea...   \n",
       "1   ‘What the hell is this?’: Golf course employee...   \n",
       "4   These Teens Found A Brilliant Way To Prove Sch...   \n",
       "16                 Miss India Wins Miss Universe 2021   \n",
       "17  ‘Don’t Say Anything Stupid, Because You’re Jus...   \n",
       "18  Milwaukee car thieves are crazy for Hyundais a...   \n",
       "21  Miss Universe is India's Harnaaz Sandhu, 70th ...   \n",
       "22  18 Horrific Bosses In 2021 That Made People Sa...   \n",
       "23  Here's What 30 Days of Mountain Climbers Did t...   \n",
       "\n",
       "                                                links  predicted_label  \n",
       "0   https://news.yahoo.com/ring-doorbell-footage-c...                1  \n",
       "1   https://news.yahoo.com/hell-golf-course-employ...                1  \n",
       "4   https://news.yahoo.com/8-kids-teens-made-us-18...                1  \n",
       "16  https://news.yahoo.com/miss-india-wins-miss-un...                1  \n",
       "17  https://news.yahoo.com/don-t-anything-stupid-b...                1  \n",
       "18  https://news.yahoo.comhttps://www.autoblog.com...                1  \n",
       "21  https://news.yahoo.com/harnaaz-sandhu-india-na...                1  \n",
       "22  https://news.yahoo.com/18-horrific-bosses-2021...                1  \n",
       "23  https://news.yahoo.com/heres-30-days-mountain-...                1  "
      ]
     },
     "execution_count": 61,
     "metadata": {},
     "output_type": "execute_result"
    }
   ],
   "source": [
    "df2"
   ]
  },
  {
   "cell_type": "code",
   "execution_count": 62,
   "id": "617cf35f-c682-4326-86de-f56ddae6dd75",
   "metadata": {},
   "outputs": [],
   "source": [
    "import time\n",
    "textl = []\n",
    "for link in df2['links']:\n",
    "    \n",
    "    page = ''\n",
    "    while  page == '':\n",
    "        try:\n",
    "            page = requests.get(link)\n",
    "            if page != '':\n",
    "                soup = BeautifulSoup(page.text, \"html.parser\")\n",
    "                text = soup.get_text()\n",
    "                sep = 'Recommended Stories'\n",
    "                stripped = text.split(sep, 1)[0]\n",
    "                textl.append(stripped)\n",
    "            break\n",
    "        except:\n",
    "            #df2['link'] = pd.nan\n",
    "            df2 = df2[df2['links']!= link]\n",
    "            break   "
   ]
  },
  {
   "cell_type": "code",
   "execution_count": 63,
   "id": "2ad141b5-a180-4b43-b01a-231aea49eede",
   "metadata": {},
   "outputs": [
    {
     "data": {
      "text/plain": [
       "['These Teens Found A Brilliant Way To Prove School Dress Codes Are Sexist And Others Pranked An Entire School Board — Here Are 6 Other Things Youths Did To Win The Internet This Year        HOME    MAIL    NEWS    FINANCE    SPORTS    ENTERTAINMENT    LIFE    SHOPPING    YAHOO PLUS    MORE...     Download the Yahoo News app          Yahoo News  Search query    Sign in   Mail Sign in to view your mail    News   News   US   US   Politics   Politics   World   World   COVID-19   COVID-19   Climate Change   Climate Change  Originals   Originals   The 360The 360 SkullduggerySkullduggery ConspiracylandConspiracyland     Health   Health   Science   Science   Podcasts   Podcasts   Contact Us   Contact Us   Videos   Videos   Autos   Autos  …… \\n\\nClose this contentBuzzFeedThese Teens Found A Brilliant Way To Prove School Dress Codes Are Sexist And Others Pranked An Entire School Board — Here Are 6 Other Things Youths Did To Win The Internet This YearRead full articleDecember 13, 2021, 1:46 PM·3 min readWell, we\\'ve *almost* made it through 2021. COVID still exists, but we have better things to focus on — like the amazing young people who made the internet a better place this year... Soul Pancake / Kid PresidentWhether it was by taking a stance against sexist customs, standing up to bullies, or simply making us laugh, here are the kids and teens who won the internet in 2021:1.With the help of her dad, a 13-year-old transgender girl named Ruby created a swimwear line for nonbinary kids.View this photo on Instagram2. Two high school teens dressed the exact same to school to prove that dress codes are sexist — and it worked. The girl got written up, and the boy did not.@drooscroothey really wrote up @kenziecrimmins and didn’t say anything to me #dresscode #sexist♬ original sound - SickickmusicThe two Illinois-based teens — Drew Jarding and Kenzie Crimmins — wore crop tops to school.You can read the full article with the teens here.3. Maggie Mundwiller was laid off during COVID and invited to a second, in-person job interview but didn\\'t have childcare for her 1-year-old son, Mylo. The company invited Mylo to come along to the interview, and he nailed it like a boss.@314handcraftedEver been to a toddler friendly interview? #companyculture #toddler #fyp #foryourpage #PrimeDayDealsDance #toddler #covidbaby #job #interview #cute♬ original sound - Cody V.Mylo brought along his own résumé. Key highlights include taking off his own diaper, smelling flowers with his teeth, and he can destroy a clean space in 30 seconds.You can read the full feature of Mylo and his mom here.4.Teens pulled the ultimate The Simpsons prank during a meeting for the Henrico School Board in Virginia. In the video, chair member Reverend Dr. Roscoe D. Cooper III doesn\\'t realize he is listing fake names, like \"Eileen Dover\" and \"Suk Mahdik.\"5. 17-year-old Grace Brumfield was shamed on Facebook by adults for the length of her homecoming dress — one that didn\\'t even break any dress code rules set by the school.Story continues@mgracebrumfield#greenscreen I hate my town...#homecoming#karen#happierthanever#facebook♬ Happier than ever - <3<>> After Grace read the comments, she was taken aback by how mean some of them were. She told BuzzFeed, \"It shocked me because most of them were from women — and they were all mothers and grandmothers. The only question I had was, Why? I didn’t see anything wrong with my photos, so why were there negative comments?\"The full details are in the article, which you can read here.6. Five-month-old Mateo caught the attention of the internet for how ADORABLE he made excessive body hair look. (He is on a medication called diazoxide, and it has a side effect that causes him to grow body hair.)@blshelby#fyp #baby #foryoupage #hairy♬ original sound - Bri ShelbyBuzzFeed spoke to Bri Shelby, Mateo\\'s mom, who said, \"We didn’t know it was a big deal until people started saying, \\'Oh my goodness, that’s a lot of hair!\\' Even the nurses were saying that when he was in the hospital!\"You can read the full article about Mateo here.7.A fifth-grade boy named Evan was sent home in tears after being bullied for his Tony Stark costume. Later that day, he decided to ignore the bullies, put his costume on again, and go back to school to celebrate Halloween.8. And, lastly, any video of father-son duo Randy and Brice Gonzalez\\'s will bring you joy, but this particular one was so good, it caught the eye of well-known director Ava DuVernay.@enkyboysOmg crazy Interview￼!!#enkyboys #enkyboy♬ original sound - Julie BirkeDuVernay tweeted, “I’ve watched four different videos of this kid over the past 25 hours in which he mimics four very different kinds of characters and my new goal of 2021 is to meet him and cast him in something somewhere somehow. Also his partner. Obsessed.”We haven\\'t heard news on if they\\'ve been cast in any upcoming project or not, but we certainly hope it is in the works!You can read our full feature about the pair here.Obviously, there are tons of other kids and teens who did fantastic things on the internet this year. If your favorite one isn\\'t on the list, share it with us in the comments!Our goal is to create a safe and engaging place for users to connect over interests and passions. In order to improve our community experience, we are temporarily suspending article commenting\\n']"
      ]
     },
     "execution_count": 63,
     "metadata": {},
     "output_type": "execute_result"
    }
   ],
   "source": [
    "textli = [[text] for text in textl]\n",
    "textli[2]"
   ]
  },
  {
   "cell_type": "code",
   "execution_count": 64,
   "id": "d7ded995-7035-4b22-8fd8-c29f18514f06",
   "metadata": {},
   "outputs": [
    {
     "data": {
      "text/plain": [
       "[['These Teens Found A Brilliant Way To Prove School Dress Codes Are Sexist And Others Pranked An Entire School Board — Here Are 6 Other Things Youths Did To Win The Internet This Year        HOME    MAIL    NEWS    FINANCE    SPORTS    ENTERTAINMENT    LIFE    SHOPPING    YAHOO PLUS    MORE...     Download the Yahoo News app          Yahoo News  Search query    Sign in   Mail Sign in to view your mail    News   News   US   US   Politics   Politics   World   World   COVID-19   COVID-19   Climate Change   Climate Change  Originals   Originals   The 360The 360 SkullduggerySkullduggery ConspiracylandConspiracyland     Health   Health   Science   Science   Podcasts   Podcasts   Contact Us   Contact Us   Videos   Videos   Autos   Autos  …… '],\n",
       " ['Close this contentBuzzFeedThese Teens Found A Brilliant Way To Prove School Dress Codes Are Sexist And Others Pranked An Entire School Board — Here Are 6 Other Things Youths Did To Win The Internet This YearRead full articleDecember 13, 2021, 1:46 PM·3 min readWell, we\\'ve *almost* made it through 2021. COVID still exists, but we have better things to focus on — like the amazing young people who made the internet a better place this year... Soul Pancake / Kid PresidentWhether it was by taking a stance against sexist customs, standing up to bullies, or simply making us laugh, here are the kids and teens who won the internet in 2021:1.With the help of her dad, a 13-year-old transgender girl named Ruby created a swimwear line for nonbinary kids.View this photo on Instagram2. Two high school teens dressed the exact same to school to prove that dress codes are sexist — and it worked. The girl got written up, and the boy did not.@drooscroothey really wrote up @kenziecrimmins and didn’t say anything to me #dresscode #sexist♬ original sound - SickickmusicThe two Illinois-based teens — Drew Jarding and Kenzie Crimmins — wore crop tops to school.You can read the full article with the teens here.3. Maggie Mundwiller was laid off during COVID and invited to a second, in-person job interview but didn\\'t have childcare for her 1-year-old son, Mylo. The company invited Mylo to come along to the interview, and he nailed it like a boss.@314handcraftedEver been to a toddler friendly interview? #companyculture #toddler #fyp #foryourpage #PrimeDayDealsDance #toddler #covidbaby #job #interview #cute♬ original sound - Cody V.Mylo brought along his own résumé. Key highlights include taking off his own diaper, smelling flowers with his teeth, and he can destroy a clean space in 30 seconds.You can read the full feature of Mylo and his mom here.4.Teens pulled the ultimate The Simpsons prank during a meeting for the Henrico School Board in Virginia. In the video, chair member Reverend Dr. Roscoe D. Cooper III doesn\\'t realize he is listing fake names, like \"Eileen Dover\" and \"Suk Mahdik.\"5. 17-year-old Grace Brumfield was shamed on Facebook by adults for the length of her homecoming dress — one that didn\\'t even break any dress code rules set by the school.Story continues@mgracebrumfield#greenscreen I hate my town...#homecoming#karen#happierthanever#facebook♬ Happier than ever - <3<>> After Grace read the comments, she was taken aback by how mean some of them were. She told BuzzFeed, \"It shocked me because most of them were from women — and they were all mothers and grandmothers. The only question I had was, Why? I didn’t see anything wrong with my photos, so why were there negative comments?\"The full details are in the article, which you can read here.6. Five-month-old Mateo caught the attention of the internet for how ADORABLE he made excessive body hair look. (He is on a medication called diazoxide, and it has a side effect that causes him to grow body hair.)@blshelby#fyp #baby #foryoupage #hairy♬ original sound - Bri ShelbyBuzzFeed spoke to Bri Shelby, Mateo\\'s mom, who said, \"We didn’t know it was a big deal until people started saying, \\'Oh my goodness, that’s a lot of hair!\\' Even the nurses were saying that when he was in the hospital!\"You can read the full article about Mateo here.7.A fifth-grade boy named Evan was sent home in tears after being bullied for his Tony Stark costume. Later that day, he decided to ignore the bullies, put his costume on again, and go back to school to celebrate Halloween.8. And, lastly, any video of father-son duo Randy and Brice Gonzalez\\'s will bring you joy, but this particular one was so good, it caught the eye of well-known director Ava DuVernay.@enkyboysOmg crazy Interview￼!!#enkyboys #enkyboy♬ original sound - Julie BirkeDuVernay tweeted, “I’ve watched four different videos of this kid over the past 25 hours in which he mimics four very different kinds of characters and my new goal of 2021 is to meet him and cast him in something somewhere somehow. Also his partner. Obsessed.”We haven\\'t heard news on if they\\'ve been cast in any upcoming project or not, but we certainly hope it is in the works!You can read our full feature about the pair here.Obviously, there are tons of other kids and teens who did fantastic things on the internet this year. If your favorite one isn\\'t on the list, share it with us in the comments!Our goal is to create a safe and engaging place for users to connect over interests and passions. In order to improve our community experience, we are temporarily suspending article commenting']]"
      ]
     },
     "execution_count": 64,
     "metadata": {},
     "output_type": "execute_result"
    }
   ],
   "source": [
    "text_list = []\n",
    "for i in range(len(textli)):\n",
    "    ps = textli[i][0].split(\"\\n\")\n",
    "    #print(ps)\n",
    "    text_list.append([[p] for p in ps if [p]!=['']])\n",
    "    #print(text_list)\n",
    "\n",
    "text_list[2]"
   ]
  },
  {
   "cell_type": "code",
   "execution_count": 122,
   "id": "450fbba6-b6c5-469a-ada7-8283788beaea",
   "metadata": {},
   "outputs": [
    {
     "name": "stderr",
     "output_type": "stream",
     "text": [
      "/opt/conda/lib/python3.7/site-packages/ipykernel_launcher.py:1: SettingWithCopyWarning: \n",
      "A value is trying to be set on a copy of a slice from a DataFrame.\n",
      "Try using .loc[row_indexer,col_indexer] = value instead\n",
      "\n",
      "See the caveats in the documentation: https://pandas.pydata.org/pandas-docs/stable/user_guide/indexing.html#returning-a-view-versus-a-copy\n",
      "  \"\"\"Entry point for launching an IPython kernel.\n"
     ]
    },
    {
     "data": {
      "text/plain": [
       "'https://news.yahoo.com/hell-golf-course-employee-shares-181504802.html'"
      ]
     },
     "execution_count": 122,
     "metadata": {},
     "output_type": "execute_result"
    }
   ],
   "source": [
    "df2['body'] = text_list\n",
    "df2['links'][1]"
   ]
  },
  {
   "cell_type": "code",
   "execution_count": 66,
   "id": "d17630de-e39a-447d-a0d9-d4d4251a84a0",
   "metadata": {},
   "outputs": [],
   "source": [
    "df_converted = df2[['titles', 'body']]"
   ]
  },
  {
   "cell_type": "code",
   "execution_count": 67,
   "id": "823ba4c5-805f-4e60-9519-1b1148db46ce",
   "metadata": {},
   "outputs": [
    {
     "data": {
      "text/html": [
       "<div>\n",
       "<style scoped>\n",
       "    .dataframe tbody tr th:only-of-type {\n",
       "        vertical-align: middle;\n",
       "    }\n",
       "\n",
       "    .dataframe tbody tr th {\n",
       "        vertical-align: top;\n",
       "    }\n",
       "\n",
       "    .dataframe thead th {\n",
       "        text-align: right;\n",
       "    }\n",
       "</style>\n",
       "<table border=\"1\" class=\"dataframe\">\n",
       "  <thead>\n",
       "    <tr style=\"text-align: right;\">\n",
       "      <th></th>\n",
       "      <th>titles</th>\n",
       "      <th>body</th>\n",
       "    </tr>\n",
       "  </thead>\n",
       "  <tbody>\n",
       "    <tr>\n",
       "      <th>0</th>\n",
       "      <td>Ring doorbell footage captures potentially dea...</td>\n",
       "      <td>[[Ring doorbell footage captures potentially d...</td>\n",
       "    </tr>\n",
       "    <tr>\n",
       "      <th>1</th>\n",
       "      <td>‘What the hell is this?’: Golf course employee...</td>\n",
       "      <td>[[‘What the hell is this?’: Golf course employ...</td>\n",
       "    </tr>\n",
       "    <tr>\n",
       "      <th>4</th>\n",
       "      <td>These Teens Found A Brilliant Way To Prove Sch...</td>\n",
       "      <td>[[These Teens Found A Brilliant Way To Prove S...</td>\n",
       "    </tr>\n",
       "    <tr>\n",
       "      <th>16</th>\n",
       "      <td>Miss India Wins Miss Universe 2021</td>\n",
       "      <td>[[Miss India Wins Miss Universe 2021        HO...</td>\n",
       "    </tr>\n",
       "    <tr>\n",
       "      <th>17</th>\n",
       "      <td>‘Don’t Say Anything Stupid, Because You’re Jus...</td>\n",
       "      <td>[[‘Don’t Say Anything Stupid, Because You’re J...</td>\n",
       "    </tr>\n",
       "    <tr>\n",
       "      <th>21</th>\n",
       "      <td>Miss Universe is India's Harnaaz Sandhu, 70th ...</td>\n",
       "      <td>[[Miss Universe is India's Harnaaz Sandhu, 70t...</td>\n",
       "    </tr>\n",
       "    <tr>\n",
       "      <th>22</th>\n",
       "      <td>18 Horrific Bosses In 2021 That Made People Sa...</td>\n",
       "      <td>[[18 Horrific Bosses In 2021 That Made People ...</td>\n",
       "    </tr>\n",
       "    <tr>\n",
       "      <th>23</th>\n",
       "      <td>Here's What 30 Days of Mountain Climbers Did t...</td>\n",
       "      <td>[[Here's What 30 Days of Mountain Climbers Did...</td>\n",
       "    </tr>\n",
       "  </tbody>\n",
       "</table>\n",
       "</div>"
      ],
      "text/plain": [
       "                                               titles  \\\n",
       "0   Ring doorbell footage captures potentially dea...   \n",
       "1   ‘What the hell is this?’: Golf course employee...   \n",
       "4   These Teens Found A Brilliant Way To Prove Sch...   \n",
       "16                 Miss India Wins Miss Universe 2021   \n",
       "17  ‘Don’t Say Anything Stupid, Because You’re Jus...   \n",
       "21  Miss Universe is India's Harnaaz Sandhu, 70th ...   \n",
       "22  18 Horrific Bosses In 2021 That Made People Sa...   \n",
       "23  Here's What 30 Days of Mountain Climbers Did t...   \n",
       "\n",
       "                                                 body  \n",
       "0   [[Ring doorbell footage captures potentially d...  \n",
       "1   [[‘What the hell is this?’: Golf course employ...  \n",
       "4   [[These Teens Found A Brilliant Way To Prove S...  \n",
       "16  [[Miss India Wins Miss Universe 2021        HO...  \n",
       "17  [[‘Don’t Say Anything Stupid, Because You’re J...  \n",
       "21  [[Miss Universe is India's Harnaaz Sandhu, 70t...  \n",
       "22  [[18 Horrific Bosses In 2021 That Made People ...  \n",
       "23  [[Here's What 30 Days of Mountain Climbers Did...  "
      ]
     },
     "execution_count": 67,
     "metadata": {},
     "output_type": "execute_result"
    }
   ],
   "source": [
    "df_converted"
   ]
  },
  {
   "cell_type": "code",
   "execution_count": 68,
   "id": "2d8216b9-a0df-4bbf-89f5-977d6651fb1b",
   "metadata": {},
   "outputs": [],
   "source": [
    "df_converted = df_converted.rename(columns={\"titles\": \"title\", \"body\": \"paragraphs\"})"
   ]
  },
  {
   "cell_type": "code",
   "execution_count": 69,
   "id": "a0f76919-8a11-4290-96a5-518823d62338",
   "metadata": {},
   "outputs": [],
   "source": [
    "df_converted.reset_index(inplace = True)"
   ]
  },
  {
   "cell_type": "code",
   "execution_count": 70,
   "id": "4ae23c8b-370e-4def-973b-298edca8bd98",
   "metadata": {},
   "outputs": [
    {
     "data": {
      "text/plain": [
       "0    [[Ring doorbell footage captures potentially d...\n",
       "1    [[‘What the hell is this?’: Golf course employ...\n",
       "2    [[These Teens Found A Brilliant Way To Prove S...\n",
       "3    [[Miss India Wins Miss Universe 2021        HO...\n",
       "4    [[‘Don’t Say Anything Stupid, Because You’re J...\n",
       "5    [[Miss Universe is India's Harnaaz Sandhu, 70t...\n",
       "6    [[18 Horrific Bosses In 2021 That Made People ...\n",
       "7    [[Here's What 30 Days of Mountain Climbers Did...\n",
       "Name: paragraphs, dtype: object"
      ]
     },
     "execution_count": 70,
     "metadata": {},
     "output_type": "execute_result"
    }
   ],
   "source": [
    "df_converted['paragraphs']"
   ]
  },
  {
   "cell_type": "code",
   "execution_count": 71,
   "id": "b565c482-c5ce-4d70-8084-c7434770844d",
   "metadata": {},
   "outputs": [
    {
     "name": "stderr",
     "output_type": "stream",
     "text": [
      "/opt/conda/lib/python3.7/site-packages/ipykernel_launcher.py:9: SettingWithCopyWarning: \n",
      "A value is trying to be set on a copy of a slice from a DataFrame\n",
      "\n",
      "See the caveats in the documentation: https://pandas.pydata.org/pandas-docs/stable/user_guide/indexing.html#returning-a-view-versus-a-copy\n",
      "  if __name__ == '__main__':\n"
     ]
    }
   ],
   "source": [
    "df_converted\n",
    "\n",
    "import re\n",
    "\n",
    "s_nums = df_converted['paragraphs'][0]\n",
    "\n",
    "for i in range(len(df_converted)):\n",
    "    s_nums = df_converted['paragraphs'][i]\n",
    "    df_converted['paragraphs'][i] = [[sen] for sen in re.split('\\.|!|\\?', s_nums[1][0]) if len(sen) > 2]"
   ]
  },
  {
   "cell_type": "code",
   "execution_count": 123,
   "id": "086b18f2-3a9b-4138-a4f7-afe32dbfc6ad",
   "metadata": {},
   "outputs": [
    {
     "data": {
      "text/html": [
       "<div>\n",
       "<style scoped>\n",
       "    .dataframe tbody tr th:only-of-type {\n",
       "        vertical-align: middle;\n",
       "    }\n",
       "\n",
       "    .dataframe tbody tr th {\n",
       "        vertical-align: top;\n",
       "    }\n",
       "\n",
       "    .dataframe thead th {\n",
       "        text-align: right;\n",
       "    }\n",
       "</style>\n",
       "<table border=\"1\" class=\"dataframe\">\n",
       "  <thead>\n",
       "    <tr style=\"text-align: right;\">\n",
       "      <th></th>\n",
       "      <th>title</th>\n",
       "      <th>paragraphs</th>\n",
       "    </tr>\n",
       "  </thead>\n",
       "  <tbody>\n",
       "    <tr>\n",
       "      <th>0</th>\n",
       "      <td>Ring doorbell footage captures potentially dea...</td>\n",
       "      <td>[[Close this contentRead full articleIn The Kn...</td>\n",
       "    </tr>\n",
       "    <tr>\n",
       "      <th>1</th>\n",
       "      <td>‘What the hell is this?’: Golf course employee...</td>\n",
       "      <td>[[Close this contentThe Independent‘What the h...</td>\n",
       "    </tr>\n",
       "    <tr>\n",
       "      <th>2</th>\n",
       "      <td>These Teens Found A Brilliant Way To Prove Sch...</td>\n",
       "      <td>[[Close this contentBuzzFeedThese Teens Found ...</td>\n",
       "    </tr>\n",
       "    <tr>\n",
       "      <th>3</th>\n",
       "      <td>Miss India Wins Miss Universe 2021</td>\n",
       "      <td>[[Close this contentPeopleMiss India Wins Miss...</td>\n",
       "    </tr>\n",
       "    <tr>\n",
       "      <th>4</th>\n",
       "      <td>‘Don’t Say Anything Stupid, Because You’re Jus...</td>\n",
       "      <td>[[Close this contentAtlanta Black Star‘Don’t S...</td>\n",
       "    </tr>\n",
       "    <tr>\n",
       "      <th>5</th>\n",
       "      <td>Miss Universe is India's Harnaaz Sandhu, 70th ...</td>\n",
       "      <td>[[Close this contentAssociated PressMiss Unive...</td>\n",
       "    </tr>\n",
       "    <tr>\n",
       "      <th>6</th>\n",
       "      <td>18 Horrific Bosses In 2021 That Made People Sa...</td>\n",
       "      <td>[[Close this contentBuzzFeed18 Horrific Bosses...</td>\n",
       "    </tr>\n",
       "    <tr>\n",
       "      <th>7</th>\n",
       "      <td>Here's What 30 Days of Mountain Climbers Did t...</td>\n",
       "      <td>[[Close this contentMen's HealthHere's What 30...</td>\n",
       "    </tr>\n",
       "  </tbody>\n",
       "</table>\n",
       "</div>"
      ],
      "text/plain": [
       "                                               title  \\\n",
       "0  Ring doorbell footage captures potentially dea...   \n",
       "1  ‘What the hell is this?’: Golf course employee...   \n",
       "2  These Teens Found A Brilliant Way To Prove Sch...   \n",
       "3                 Miss India Wins Miss Universe 2021   \n",
       "4  ‘Don’t Say Anything Stupid, Because You’re Jus...   \n",
       "5  Miss Universe is India's Harnaaz Sandhu, 70th ...   \n",
       "6  18 Horrific Bosses In 2021 That Made People Sa...   \n",
       "7  Here's What 30 Days of Mountain Climbers Did t...   \n",
       "\n",
       "                                          paragraphs  \n",
       "0  [[Close this contentRead full articleIn The Kn...  \n",
       "1  [[Close this contentThe Independent‘What the h...  \n",
       "2  [[Close this contentBuzzFeedThese Teens Found ...  \n",
       "3  [[Close this contentPeopleMiss India Wins Miss...  \n",
       "4  [[Close this contentAtlanta Black Star‘Don’t S...  \n",
       "5  [[Close this contentAssociated PressMiss Unive...  \n",
       "6  [[Close this contentBuzzFeed18 Horrific Bosses...  \n",
       "7  [[Close this contentMen's HealthHere's What 30...  "
      ]
     },
     "execution_count": 123,
     "metadata": {},
     "output_type": "execute_result"
    }
   ],
   "source": [
    "df_converted"
   ]
  },
  {
   "cell_type": "code",
   "execution_count": 73,
   "id": "c66ad62f-9bad-4f39-8a05-64d794e2e0fa",
   "metadata": {},
   "outputs": [
    {
     "name": "stdout",
     "output_type": "stream",
     "text": [
      "Downloading SQuAD v1.1 data...\n",
      "train-v1.1.json already downloaded\n",
      "dev-v1.1.json already downloaded\n",
      "\n",
      "Downloading SQuAD v2.0 data...\n",
      "train-v2.0.json already downloaded\n",
      "dev-v2.0.json already downloaded\n",
      "\n",
      "Downloading BNP data...\n",
      "bnpp_newsroom-v1.1.csv already downloaded\n",
      "\n",
      "Downloading trained model...\n",
      "bert_qa.joblib already downloaded\n"
     ]
    }
   ],
   "source": [
    "from cdqa.utils.download import download_squad, download_model, download_bnpp_data\n",
    "\n",
    "directory = '/home/mshar004'\n",
    "\n",
    "# Downloading data\n",
    "download_squad(dir=directory)\n",
    "download_bnpp_data(dir=directory)\n",
    "\n",
    "# Downloading pre-trained BERT fine-tuned on SQuAD 1.1\n",
    "download_model('bert-squad_1.1', dir=directory)"
   ]
  },
  {
   "cell_type": "code",
   "execution_count": 74,
   "id": "f12c7590-5e7c-4c93-a09c-ad3dd565e8d0",
   "metadata": {},
   "outputs": [
    {
     "name": "stdout",
     "output_type": "stream",
     "text": [
      "\n",
      "Downloading trained model...\n",
      "distilbert_qa.joblib already downloaded\n"
     ]
    }
   ],
   "source": [
    "# Downloading pre-trained DistilBERT fine-tuned on SQuAD 1.1\n",
    "download_model('distilbert-squad_1.1', dir=directory)"
   ]
  },
  {
   "cell_type": "code",
   "execution_count": 76,
   "id": "21706a9f-132e-4b33-8634-ac3737906f81",
   "metadata": {},
   "outputs": [
    {
     "data": {
      "text/html": [
       "<div>\n",
       "<style scoped>\n",
       "    .dataframe tbody tr th:only-of-type {\n",
       "        vertical-align: middle;\n",
       "    }\n",
       "\n",
       "    .dataframe tbody tr th {\n",
       "        vertical-align: top;\n",
       "    }\n",
       "\n",
       "    .dataframe thead th {\n",
       "        text-align: right;\n",
       "    }\n",
       "</style>\n",
       "<table border=\"1\" class=\"dataframe\">\n",
       "  <thead>\n",
       "    <tr style=\"text-align: right;\">\n",
       "      <th></th>\n",
       "      <th>title</th>\n",
       "      <th>paragraphs</th>\n",
       "    </tr>\n",
       "  </thead>\n",
       "  <tbody>\n",
       "    <tr>\n",
       "      <th>0</th>\n",
       "      <td>Ring doorbell footage captures potentially dea...</td>\n",
       "      <td>[[Close this contentRead full articleIn The Kn...</td>\n",
       "    </tr>\n",
       "    <tr>\n",
       "      <th>1</th>\n",
       "      <td>‘What the hell is this?’: Golf course employee...</td>\n",
       "      <td>[[Close this contentThe Independent‘What the h...</td>\n",
       "    </tr>\n",
       "    <tr>\n",
       "      <th>2</th>\n",
       "      <td>These Teens Found A Brilliant Way To Prove Sch...</td>\n",
       "      <td>[[Close this contentBuzzFeedThese Teens Found ...</td>\n",
       "    </tr>\n",
       "    <tr>\n",
       "      <th>3</th>\n",
       "      <td>Miss India Wins Miss Universe 2021</td>\n",
       "      <td>[[Close this contentPeopleMiss India Wins Miss...</td>\n",
       "    </tr>\n",
       "    <tr>\n",
       "      <th>4</th>\n",
       "      <td>‘Don’t Say Anything Stupid, Because You’re Jus...</td>\n",
       "      <td>[[Close this contentAtlanta Black Star‘Don’t S...</td>\n",
       "    </tr>\n",
       "    <tr>\n",
       "      <th>5</th>\n",
       "      <td>Miss Universe is India's Harnaaz Sandhu, 70th ...</td>\n",
       "      <td>[[Close this contentAssociated PressMiss Unive...</td>\n",
       "    </tr>\n",
       "    <tr>\n",
       "      <th>6</th>\n",
       "      <td>18 Horrific Bosses In 2021 That Made People Sa...</td>\n",
       "      <td>[[Close this contentBuzzFeed18 Horrific Bosses...</td>\n",
       "    </tr>\n",
       "    <tr>\n",
       "      <th>7</th>\n",
       "      <td>Here's What 30 Days of Mountain Climbers Did t...</td>\n",
       "      <td>[[Close this contentMen's HealthHere's What 30...</td>\n",
       "    </tr>\n",
       "  </tbody>\n",
       "</table>\n",
       "</div>"
      ],
      "text/plain": [
       "                                               title  \\\n",
       "0  Ring doorbell footage captures potentially dea...   \n",
       "1  ‘What the hell is this?’: Golf course employee...   \n",
       "2  These Teens Found A Brilliant Way To Prove Sch...   \n",
       "3                 Miss India Wins Miss Universe 2021   \n",
       "4  ‘Don’t Say Anything Stupid, Because You’re Jus...   \n",
       "5  Miss Universe is India's Harnaaz Sandhu, 70th ...   \n",
       "6  18 Horrific Bosses In 2021 That Made People Sa...   \n",
       "7  Here's What 30 Days of Mountain Climbers Did t...   \n",
       "\n",
       "                                          paragraphs  \n",
       "0  [[Close this contentRead full articleIn The Kn...  \n",
       "1  [[Close this contentThe Independent‘What the h...  \n",
       "2  [[Close this contentBuzzFeedThese Teens Found ...  \n",
       "3  [[Close this contentPeopleMiss India Wins Miss...  \n",
       "4  [[Close this contentAtlanta Black Star‘Don’t S...  \n",
       "5  [[Close this contentAssociated PressMiss Unive...  \n",
       "6  [[Close this contentBuzzFeed18 Horrific Bosses...  \n",
       "7  [[Close this contentMen's HealthHere's What 30...  "
      ]
     },
     "execution_count": 76,
     "metadata": {},
     "output_type": "execute_result"
    }
   ],
   "source": [
    "df_converted.drop('index', axis=1, inplace= True)\n",
    "df_converted"
   ]
  },
  {
   "cell_type": "code",
   "execution_count": 77,
   "id": "517d9223-f65d-486d-9867-d75f01a74afe",
   "metadata": {},
   "outputs": [],
   "source": [
    "df_converted.to_csv('df_bert.csv')"
   ]
  },
  {
   "cell_type": "code",
   "execution_count": 78,
   "id": "37ed130d-55b5-4105-b808-e3e9de76ab33",
   "metadata": {},
   "outputs": [],
   "source": [
    "import pandas as pd\n",
    "from ast import literal_eval\n",
    "from cdqa.pipeline import QAPipeline\n",
    "\n",
    "df = pd.read_csv('df_bert.csv', converters={'paragraphs': literal_eval})"
   ]
  },
  {
   "cell_type": "code",
   "execution_count": 79,
   "id": "6e2939c4-bf51-4efe-b928-6616ef457ed5",
   "metadata": {},
   "outputs": [],
   "source": [
    "#cdqa_pipeline = QAPipeline(reader='bert_qa.joblib') # use 'distilbert_qa.joblib' for DistilBERT instead of BERT\n",
    "cdqa_pipeline = QAPipeline(reader='distilbert_qa.joblib')"
   ]
  },
  {
   "cell_type": "code",
   "execution_count": 82,
   "id": "884d5bdf-efcb-4ed7-954e-048dc1760115",
   "metadata": {},
   "outputs": [],
   "source": [
    "df.drop('Unnamed: 0', axis=1, inplace = True)"
   ]
  },
  {
   "cell_type": "code",
   "execution_count": 83,
   "id": "d984ff0c-3bd4-4a07-800a-98eb6079a357",
   "metadata": {},
   "outputs": [
    {
     "data": {
      "text/plain": [
       "QAPipeline(reader=BertQA(adam_epsilon=1e-08,\n",
       "                         bert_model='distilbert-base-uncased',\n",
       "                         do_lower_case=True, fp16=False,\n",
       "                         gradient_accumulation_steps=1, learning_rate=5e-05,\n",
       "                         local_rank=-1, loss_scale=0, max_answer_length=30,\n",
       "                         n_best_size=20, no_cuda=False,\n",
       "                         null_score_diff_threshold=0.0, num_train_epochs=3.0,\n",
       "                         output_dir=None, predict_batch_size=8, seed=42,\n",
       "                         server_ip='', ser...size=8,\n",
       "                         verbose_logging=False, version_2_with_negative=False,\n",
       "                         warmup_proportion=0.1, warmup_steps=0),\n",
       "           retrieve_by_doc=False,\n",
       "           retriever=BM25Retriever(b=0.75, floor=None, k1=2.0, lowercase=True,\n",
       "                                   max_df=0.85, min_df=2, ngram_range=(1, 2),\n",
       "                                   preprocessor=None, stop_words='english',\n",
       "                                   token_pattern='(?u)\\\\b\\\\w\\\\w+\\\\b',\n",
       "                                   tokenizer=None, top_n=20, verbose=False,\n",
       "                                   vocabulary=None))"
      ]
     },
     "execution_count": 83,
     "metadata": {},
     "output_type": "execute_result"
    }
   ],
   "source": [
    "cdqa_pipeline.fit_retriever(df=df)"
   ]
  },
  {
   "cell_type": "code",
   "execution_count": 92,
   "id": "434ddb8d-d68f-4cb7-8852-4e236192e6fc",
   "metadata": {},
   "outputs": [
    {
     "data": {
      "text/plain": [
       "'‘What the hell is this?’: Golf course employee shares bizarre tip she got from customer'"
      ]
     },
     "execution_count": 92,
     "metadata": {},
     "output_type": "execute_result"
    }
   ],
   "source": [
    "df['title'][1]"
   ]
  },
  {
   "cell_type": "code",
   "execution_count": 93,
   "id": "78260b25-9a0f-41fc-9eec-e6cbbb85fec4",
   "metadata": {},
   "outputs": [
    {
     "data": {
      "text/plain": [
       "[['Close this contentThe Independent‘What the hell is this'],\n",
       " ['’: Golf course employee shares bizarre tip she got from customerRead full articleChelsea RitschelDecember 13, 2021, 10:15 AM·4 min readGolf course employee reveals man tipped her with three ripped $100 bills (TikTok / @cassholland)A golf course employee who serves drinks to the golfers has revealed the bizarre tip she received from a man on the course in an effort to convince her to get dinner with him'],\n",
       " ['Cassie Holland, who works as a beverage cart driver in Las Vegas, Nevada, recalled the encounter in a TikTok uploaded in September, where she revealed that the man gave her three $100 bills that were ripped in half, and promised to give her the other halves if she showed up for dinner'],\n",
       " ['Holland, who goes by the username @cassholland on TikTok, began the video by explaining that she was sharing the story because she wanted to know if it had ever happened to anyone else'],\n",
       " ['The golf course employee then held up three $100 bills that had been ripped in half as she said: “What the hell is this'],\n",
       " [' Three hundred dollars in half'],\n",
       " ['”“So, how did we get here'],\n",
       " [' You’re probably thinking someone tried to trick me and short me but oh no'],\n",
       " [' This man had bigger plans in mind,” Holland continued, before recalling how the man in question had been buying drinks for himself and his friends and was “tipping good” and “being really nice” during their first encounter'],\n",
       " ['However, according to Holland, at that point, the man had claimed he was from out of town and asked her to go to dinner with him, an invitation which she said she declined'],\n",
       " ['After urging Holland to cancel her plans, the man then took out the ripped money, with the golf cart driver recalling how he’d offered her the money and promised to give her the other halves if she met him in front of a casino at 9pm that night'],\n",
       " ['“So clearly he already had this whole idea planned out,” Holland said in the clip, before revealing that she had again declined the offer'],\n",
       " ['@casshollandSo does this = $150'],\n",
       " [' #cartgirl #golfer #golftiktok #golf #golflife #CinderellaMovie♬ original sound - Cassie HollandHowever, according to Holland, once she got back in her cart, she noticed that the man had left the destroyed money in her drink holder'],\n",
       " ['“Now I have this completely useless $300,” she said'],\n",
       " [' “Just $300 down the drain that nobody can use because I’m not going'],\n",
       " ['”Story continuesHolland then revealed that she was mad at first over the situation, but ultimately concluded that the golfer is the “dumba** that lost $300, before admitting that she doesn’t know how to handle the situation'],\n",
       " ['“So now I don’t know what to do,” she continued'],\n",
       " [' “I wonder if he’s ever done this before and it’s worked ‘cause I can understand once you have the three halves you probably want the other ones'],\n",
       " ['“It’s funny, because he probably thinks he’s a genius, but he really just lost $300 for nothing'],\n",
       " ['”     View this post on Instagram      A post shared by @americandreamhoneyThe clip, which has been viewed more than 1'],\n",
       " ['7m times, sparked a range of replies in the comments, with some viewers urging Holland to take the money to the bank'],\n",
       " ['“If it’s more than 50 per cent the bank will usually take it,” one person commented, while another said: “You should take those to the bank'],\n",
       " ['”Others revealed that they have found themselves in similar situations, with someone else writing: “It happens to me all the time'],\n",
       " ['”“Happened to me too when bartending'],\n",
       " ['” another viewer added'],\n",
       " ['The video also prompted comments from viewers disgusted by the man’s behaviour and “audacity”'],\n",
       " ['In a follow-up video, Holland revealed that the man who’d given her the ripped money had shown up at the golf course again, with the golf course employee claiming that he gave her the rest of the money after admitting that he’d seen her TikTok video'],\n",
       " ['     View this post on Instagram      A post shared by @americandreamhoney“Turns out he saw my video and realised what he did wasn’t very smart,” Holland said as she held up the bills that had been taped together'],\n",
       " [' “Yes, he came back to play today and decided he would give me the other halves this time'],\n",
       " ['”According to Holland, when the man gave her the money, he told her he felt it was a good use of the money if she was going to do “something fun with it,” while she revealed in the clip that she was considering using the tip to pay bills'],\n",
       " ['Holland also said the golfer had again invited her out, but that she had decided not to show up again'],\n",
       " ['@casshollandGolfer reveal'],\n",
       " [' #golf #golfer #cartgirl #golftiktok #CurameChoreo♬ original sound - Cassie Holland“And buddy, if you’re watching this, thank you but, like I said to you before, I’m going to be accepting this as an inconvenience fee,” Holland concluded'],\n",
       " ['The beverage cart employee was praised by viewers for her handling of the situation, with one person writing: “When I tell you my JAW DROPPED'],\n",
       " [' This is a power move'],\n",
       " ['”The Independent has contacted Holland for comment'],\n",
       " ['Read MoreTikTok ‘couch guy’ speaks out about being falsely accused of cheatingTikToker gets boyfriend a birthday gift with the names of all the girls he cheated with on itKim Kardashian’s daughter North West does ‘house tour’ on TikTok live without her permissionSchoolboy almost dies from swallowing magnets for TikTok challengeWoman shares honest review of New York City apartmentTikTok mom slammed after making 5-year-old son run in 104 degree heatOur goal is to create a safe and engaging place for users to connect over interests and passions'],\n",
       " [' In order to improve our community experience, we are temporarily suspending article commenting']]"
      ]
     },
     "execution_count": 93,
     "metadata": {},
     "output_type": "execute_result"
    }
   ],
   "source": [
    "df['paragraphs'][1]"
   ]
  },
  {
   "cell_type": "code",
   "execution_count": 94,
   "id": "c12c9cd5-7dd7-4782-a876-b5679b93ec40",
   "metadata": {},
   "outputs": [],
   "source": [
    "query = df['title'][1]"
   ]
  },
  {
   "cell_type": "code",
   "execution_count": 95,
   "id": "e261b0b2-4306-4f7e-ac09-e6ab1196a430",
   "metadata": {},
   "outputs": [],
   "source": [
    "prediction = cdqa_pipeline.predict(query, 5)"
   ]
  },
  {
   "cell_type": "code",
   "execution_count": 96,
   "id": "89f2718c-d5f3-4efc-b99f-5e9387527606",
   "metadata": {},
   "outputs": [
    {
     "data": {
      "text/plain": [
       "[('TikTok',\n",
       "  '‘What the hell is this?’: Golf course employee shares bizarre tip she got from customer',\n",
       "  'In a follow-up video, Holland revealed that the man who’d given her the ripped money had shown up at the golf course again, with the golf course employee claiming that he gave her the rest of the money after admitting that he’d seen her TikTok video',\n",
       "  7.390853153337114),\n",
       " ('What the hell is this',\n",
       "  '‘What the hell is this?’: Golf course employee shares bizarre tip she got from customer',\n",
       "  'The golf course employee then held up three $100 bills that had been ripped in half as she said: “What the hell is this',\n",
       "  5.729512101124358),\n",
       " ('bizarre tip',\n",
       "  '‘What the hell is this?’: Golf course employee shares bizarre tip she got from customer',\n",
       "  '’: Golf course employee shares bizarre tip she got from customerRead full articleChelsea RitschelDecember 13, 2021, 10:15 AM·4 min readGolf course employee reveals man tipped her with three ripped $100 bills (TikTok / @cassholland)A golf course employee who serves drinks to the golfers has revealed the bizarre tip she received from a man on the course in an effort to convince her to get dinner with him',\n",
       "  3.461951280866757),\n",
       " ('super mad',\n",
       "  '‘Don’t Say Anything Stupid, Because You’re Just Going to Get Arrested’: Black Man Handcuffed After Bank Falsely Claims His Paycheck Was Fake',\n",
       "  '’ That’s when I got super mad',\n",
       "  2.4540106282619525),\n",
       " ('What the hell',\n",
       "  '‘What the hell is this?’: Golf course employee shares bizarre tip she got from customer',\n",
       "  'Close this contentThe Independent‘What the hell is this',\n",
       "  2.0401831996028377)]"
      ]
     },
     "execution_count": 96,
     "metadata": {},
     "output_type": "execute_result"
    }
   ],
   "source": [
    "prediction"
   ]
  },
  {
   "cell_type": "code",
   "execution_count": 97,
   "id": "b5446e5b-6491-4f3d-bb83-f7dea98668b4",
   "metadata": {},
   "outputs": [
    {
     "data": {
      "text/plain": [
       "'TikTok'"
      ]
     },
     "execution_count": 97,
     "metadata": {},
     "output_type": "execute_result"
    }
   ],
   "source": [
    "prediction[0][0]"
   ]
  },
  {
   "cell_type": "code",
   "execution_count": 98,
   "id": "9bd62376-ebd0-4051-8c93-76056638015a",
   "metadata": {},
   "outputs": [
    {
     "name": "stdout",
     "output_type": "stream",
     "text": [
      "In a follow-up video, Holland revealed that the man who’d given her the ripped money had shown up at the golf course again, with the golf course employee claiming that he gave her the rest of the money after admitting that he’d seen her TikTok video\n",
      "The golf course employee then held up three $100 bills that had been ripped in half as she said: “What the hell is this\n",
      "’ That’s when I got super mad\n"
     ]
    }
   ],
   "source": [
    "for i in range(len(prediction)):\n",
    "    if(prediction[i][2] not in query and query not in prediction[i][2] and 'Close this content' not in prediction[i][2]\n",
    "      and 'Read full article' not in prediction[i][2] and 'This article' not in prediction[i][2] and 'More from In The Know' not in prediction[i][2]\n",
    "      and 'min read' not in prediction[i][2] and 'More content below' not in prediction[i][2]\n",
    "      ):\n",
    "        print(prediction[i][2])"
   ]
  },
  {
   "cell_type": "code",
   "execution_count": null,
   "id": "00d889ca-dcb0-4226-abe0-97fab22dda68",
   "metadata": {},
   "outputs": [],
   "source": []
  }
 ],
 "metadata": {
  "kernelspec": {
   "display_name": "Python 3",
   "language": "python",
   "name": "python3"
  },
  "language_info": {
   "codemirror_mode": {
    "name": "ipython",
    "version": 3
   },
   "file_extension": ".py",
   "mimetype": "text/x-python",
   "name": "python",
   "nbconvert_exporter": "python",
   "pygments_lexer": "ipython3",
   "version": "3.8.8"
  }
 },
 "nbformat": 4,
 "nbformat_minor": 5
}
